{
  "nbformat": 4,
  "nbformat_minor": 0,
  "metadata": {
    "colab": {
      "name": "Engineering Placements Prediction.ipynb",
      "provenance": [],
      "collapsed_sections": []
    },
    "kernelspec": {
      "display_name": "Python 3",
      "name": "python3"
    },
    "language_info": {
      "name": "python"
    }
  },
  "cells": [
    {
      "cell_type": "code",
      "metadata": {
        "id": "vjU6aBT2C9XZ"
      },
      "source": [
        "import json\n",
        "\n",
        "my_details = {\"username\":\"kaushikpal2020\",\"key\":\"0a176df48afab6fc1d80333e99480f33\"}\n",
        "\n",
        "with open('kaggle.json', 'w') as json_file:\n",
        "    json.dump(my_details, json_file)"
      ],
      "execution_count": 1,
      "outputs": []
    },
    {
      "cell_type": "code",
      "metadata": {
        "id": "tJ0rtob5C9Qi"
      },
      "source": [
        "! mkdir ~/.kaggle"
      ],
      "execution_count": 2,
      "outputs": []
    },
    {
      "cell_type": "code",
      "metadata": {
        "id": "KZYWoHSmC9G0"
      },
      "source": [
        "! cp kaggle.json ~/.kaggle/"
      ],
      "execution_count": 3,
      "outputs": []
    },
    {
      "cell_type": "code",
      "metadata": {
        "id": "_xzoskW7C9BB"
      },
      "source": [
        "! chmod 600 ~/.kaggle/kaggle.json"
      ],
      "execution_count": 4,
      "outputs": []
    },
    {
      "cell_type": "code",
      "metadata": {
        "colab": {
          "base_uri": "https://localhost:8080/"
        },
        "id": "w-5Kf6piC895",
        "outputId": "7f99d695-6360-414b-88c7-a007bb06b979"
      },
      "source": [
        "!kaggle datasets download -d tejashvi14/engineering-placements-prediction"
      ],
      "execution_count": 5,
      "outputs": [
        {
          "output_type": "stream",
          "name": "stdout",
          "text": [
            "Downloading engineering-placements-prediction.zip to /content\n",
            "\r  0% 0.00/10.0k [00:00<?, ?B/s]\n",
            "\r100% 10.0k/10.0k [00:00<00:00, 3.86MB/s]\n"
          ]
        }
      ]
    },
    {
      "cell_type": "code",
      "metadata": {
        "id": "6Qh0vdXJC82Z"
      },
      "source": [
        "import zipfile\n",
        "\n",
        "z= zipfile.ZipFile('engineering-placements-prediction.zip')\n",
        "z.extractall()"
      ],
      "execution_count": 6,
      "outputs": []
    },
    {
      "cell_type": "markdown",
      "metadata": {
        "id": "JqnqH8RlDAV5"
      },
      "source": [
        "# Project Name: Engineering Placements Prediction\n",
        "\n",
        "A University Announced Its On-Campus Placement Records For The Engineering Course. The Data Is From The Years 2013 And 2014.\n",
        "The Following Is The College Placements Data Compiled Over 2 years. Use This Data To Predict And Analyse Whether A Student Gets Placed, Based On His/Her Background.\n",
        "Perform Extensive EDAs And Bring Out Insights.\n",
        "\n",
        "The main aim of this project is to predict the whether student will be placed on their placement or not based on various features. This is a classification type problem. Here we will apply logistic regression, knn, decision tree, svm, random forest, xgboost etc.\n",
        "\n",
        "The purposes of this project is  to look into different features to observe their relationship, based on several features of individual such as age, stream, cgpa, gender if we can determine wherther they will be placed or not. Why this project may help someone?\n",
        "\n",
        "Let's say someone is in First or Second year and determining how much they should study for a good cgpa or not getting backlog or moreover to get placed. One aspect can be if any individual is havn't done any inernship then should they require internship or not.\n",
        "\n",
        "kaggle dataset [link](https://www.kaggle.com/tejashvi14/engineering-placements-prediction)\n"
      ]
    },
    {
      "cell_type": "markdown",
      "metadata": {
        "id": "Bpc8YTZuFS66"
      },
      "source": [
        "## Details about dataset\n",
        "\n",
        "**Age**: \n",
        "```Age At The Time Of Final Year```\n",
        "\n",
        "\n",
        "**Gender**: \n",
        "```Gender Of Candidate, Male or Female```\n",
        "\n",
        "**Stream**\n",
        "```Engineering Stream That The Candidate Belongs To```\n",
        "\n",
        "```Computer Science, Information Technology, Mechanical,Electronics And Communication, Electrical, Civil```\n",
        "\n",
        "\n",
        "**CGPA**:\n",
        "```CGPA Till 6th Semester, Average of 6 sem's cgpa, min 0 and max 10```\n",
        "\n",
        "**Hostel**\n",
        "```Whether Student Lives In College Accomodation, 1->Yes and 0->No```\n",
        "\n",
        "**HistoryOfBacklogs**\n",
        "```Whether Student Ever Had Any Backlogs In Any Subjects, 1->Yes and 0->No```\n",
        "\n",
        "**PlacedOrNot**\n",
        "```Target Variable, 1->Yes and 0->No```\n"
      ]
    },
    {
      "cell_type": "markdown",
      "metadata": {
        "id": "guEZCMnfEBZC"
      },
      "source": [
        "# 👨🏻‍💻 All the Lifecycle In A Data Science Projects\n",
        "1. 🔥 Exploratory Data Analysis(EDA))\n",
        "2. 📈 Feature Engineering\n",
        "3. 📝 Feature Selection\n",
        "4. 🤖 Model Building and Evaluation\n",
        "5. 🎊 Deployment"
      ]
    },
    {
      "cell_type": "markdown",
      "metadata": {
        "id": "JV2eKPQ7NZf1"
      },
      "source": [
        "### 📥 Importing libraries"
      ]
    },
    {
      "cell_type": "code",
      "metadata": {
        "id": "KxIdghcdCMhQ"
      },
      "source": [
        "import pandas as pd\n",
        "import numpy as np\n",
        "from matplotlib import pyplot as plt\n",
        "import seaborn as sns\n",
        "\n",
        "%matplotlib inline"
      ],
      "execution_count": 7,
      "outputs": []
    },
    {
      "cell_type": "code",
      "metadata": {
        "colab": {
          "base_uri": "https://localhost:8080/",
          "height": 203
        },
        "id": "yCwoD2x9EsNh",
        "outputId": "3003bbed-ad8d-45c4-f5bd-b51f657e2e28"
      },
      "source": [
        "df = pd.read_csv(\"collegePlace.csv\")\n",
        "df.head()"
      ],
      "execution_count": 8,
      "outputs": [
        {
          "output_type": "execute_result",
          "data": {
            "text/html": [
              "<div>\n",
              "<style scoped>\n",
              "    .dataframe tbody tr th:only-of-type {\n",
              "        vertical-align: middle;\n",
              "    }\n",
              "\n",
              "    .dataframe tbody tr th {\n",
              "        vertical-align: top;\n",
              "    }\n",
              "\n",
              "    .dataframe thead th {\n",
              "        text-align: right;\n",
              "    }\n",
              "</style>\n",
              "<table border=\"1\" class=\"dataframe\">\n",
              "  <thead>\n",
              "    <tr style=\"text-align: right;\">\n",
              "      <th></th>\n",
              "      <th>Age</th>\n",
              "      <th>Gender</th>\n",
              "      <th>Stream</th>\n",
              "      <th>Internships</th>\n",
              "      <th>CGPA</th>\n",
              "      <th>Hostel</th>\n",
              "      <th>HistoryOfBacklogs</th>\n",
              "      <th>PlacedOrNot</th>\n",
              "    </tr>\n",
              "  </thead>\n",
              "  <tbody>\n",
              "    <tr>\n",
              "      <th>0</th>\n",
              "      <td>22</td>\n",
              "      <td>Male</td>\n",
              "      <td>Electronics And Communication</td>\n",
              "      <td>1</td>\n",
              "      <td>8</td>\n",
              "      <td>1</td>\n",
              "      <td>1</td>\n",
              "      <td>1</td>\n",
              "    </tr>\n",
              "    <tr>\n",
              "      <th>1</th>\n",
              "      <td>21</td>\n",
              "      <td>Female</td>\n",
              "      <td>Computer Science</td>\n",
              "      <td>0</td>\n",
              "      <td>7</td>\n",
              "      <td>1</td>\n",
              "      <td>1</td>\n",
              "      <td>1</td>\n",
              "    </tr>\n",
              "    <tr>\n",
              "      <th>2</th>\n",
              "      <td>22</td>\n",
              "      <td>Female</td>\n",
              "      <td>Information Technology</td>\n",
              "      <td>1</td>\n",
              "      <td>6</td>\n",
              "      <td>0</td>\n",
              "      <td>0</td>\n",
              "      <td>1</td>\n",
              "    </tr>\n",
              "    <tr>\n",
              "      <th>3</th>\n",
              "      <td>21</td>\n",
              "      <td>Male</td>\n",
              "      <td>Information Technology</td>\n",
              "      <td>0</td>\n",
              "      <td>8</td>\n",
              "      <td>0</td>\n",
              "      <td>1</td>\n",
              "      <td>1</td>\n",
              "    </tr>\n",
              "    <tr>\n",
              "      <th>4</th>\n",
              "      <td>22</td>\n",
              "      <td>Male</td>\n",
              "      <td>Mechanical</td>\n",
              "      <td>0</td>\n",
              "      <td>8</td>\n",
              "      <td>1</td>\n",
              "      <td>0</td>\n",
              "      <td>1</td>\n",
              "    </tr>\n",
              "  </tbody>\n",
              "</table>\n",
              "</div>"
            ],
            "text/plain": [
              "   Age  Gender  ... HistoryOfBacklogs  PlacedOrNot\n",
              "0   22    Male  ...                 1            1\n",
              "1   21  Female  ...                 1            1\n",
              "2   22  Female  ...                 0            1\n",
              "3   21    Male  ...                 1            1\n",
              "4   22    Male  ...                 0            1\n",
              "\n",
              "[5 rows x 8 columns]"
            ]
          },
          "metadata": {},
          "execution_count": 8
        }
      ]
    },
    {
      "cell_type": "markdown",
      "metadata": {
        "id": "H-rNOnE6S7WB"
      },
      "source": [
        "### 📝Metadeta about dataset"
      ]
    },
    {
      "cell_type": "code",
      "metadata": {
        "colab": {
          "base_uri": "https://localhost:8080/"
        },
        "id": "E21oIAB6Oo3J",
        "outputId": "2fe2cd4f-aedf-4db3-b6d7-bcf7656b9a96"
      },
      "source": [
        "print(f\"dataset contains {df.shape[0]} rows and {df.shape[1]}\")"
      ],
      "execution_count": 9,
      "outputs": [
        {
          "output_type": "stream",
          "name": "stdout",
          "text": [
            "dataset contains 2966 rows and 8\n"
          ]
        }
      ]
    },
    {
      "cell_type": "code",
      "metadata": {
        "colab": {
          "base_uri": "https://localhost:8080/",
          "height": 295
        },
        "id": "hbhzC1_cEsjZ",
        "outputId": "31249f10-501b-4c62-fa0b-492e7f49d1e5"
      },
      "source": [
        "df.describe()"
      ],
      "execution_count": 10,
      "outputs": [
        {
          "output_type": "execute_result",
          "data": {
            "text/html": [
              "<div>\n",
              "<style scoped>\n",
              "    .dataframe tbody tr th:only-of-type {\n",
              "        vertical-align: middle;\n",
              "    }\n",
              "\n",
              "    .dataframe tbody tr th {\n",
              "        vertical-align: top;\n",
              "    }\n",
              "\n",
              "    .dataframe thead th {\n",
              "        text-align: right;\n",
              "    }\n",
              "</style>\n",
              "<table border=\"1\" class=\"dataframe\">\n",
              "  <thead>\n",
              "    <tr style=\"text-align: right;\">\n",
              "      <th></th>\n",
              "      <th>Age</th>\n",
              "      <th>Internships</th>\n",
              "      <th>CGPA</th>\n",
              "      <th>Hostel</th>\n",
              "      <th>HistoryOfBacklogs</th>\n",
              "      <th>PlacedOrNot</th>\n",
              "    </tr>\n",
              "  </thead>\n",
              "  <tbody>\n",
              "    <tr>\n",
              "      <th>count</th>\n",
              "      <td>2966.000000</td>\n",
              "      <td>2966.000000</td>\n",
              "      <td>2966.000000</td>\n",
              "      <td>2966.000000</td>\n",
              "      <td>2966.000000</td>\n",
              "      <td>2966.000000</td>\n",
              "    </tr>\n",
              "    <tr>\n",
              "      <th>mean</th>\n",
              "      <td>21.485840</td>\n",
              "      <td>0.703641</td>\n",
              "      <td>7.073837</td>\n",
              "      <td>0.269049</td>\n",
              "      <td>0.192178</td>\n",
              "      <td>0.552596</td>\n",
              "    </tr>\n",
              "    <tr>\n",
              "      <th>std</th>\n",
              "      <td>1.324933</td>\n",
              "      <td>0.740197</td>\n",
              "      <td>0.967748</td>\n",
              "      <td>0.443540</td>\n",
              "      <td>0.394079</td>\n",
              "      <td>0.497310</td>\n",
              "    </tr>\n",
              "    <tr>\n",
              "      <th>min</th>\n",
              "      <td>19.000000</td>\n",
              "      <td>0.000000</td>\n",
              "      <td>5.000000</td>\n",
              "      <td>0.000000</td>\n",
              "      <td>0.000000</td>\n",
              "      <td>0.000000</td>\n",
              "    </tr>\n",
              "    <tr>\n",
              "      <th>25%</th>\n",
              "      <td>21.000000</td>\n",
              "      <td>0.000000</td>\n",
              "      <td>6.000000</td>\n",
              "      <td>0.000000</td>\n",
              "      <td>0.000000</td>\n",
              "      <td>0.000000</td>\n",
              "    </tr>\n",
              "    <tr>\n",
              "      <th>50%</th>\n",
              "      <td>21.000000</td>\n",
              "      <td>1.000000</td>\n",
              "      <td>7.000000</td>\n",
              "      <td>0.000000</td>\n",
              "      <td>0.000000</td>\n",
              "      <td>1.000000</td>\n",
              "    </tr>\n",
              "    <tr>\n",
              "      <th>75%</th>\n",
              "      <td>22.000000</td>\n",
              "      <td>1.000000</td>\n",
              "      <td>8.000000</td>\n",
              "      <td>1.000000</td>\n",
              "      <td>0.000000</td>\n",
              "      <td>1.000000</td>\n",
              "    </tr>\n",
              "    <tr>\n",
              "      <th>max</th>\n",
              "      <td>30.000000</td>\n",
              "      <td>3.000000</td>\n",
              "      <td>9.000000</td>\n",
              "      <td>1.000000</td>\n",
              "      <td>1.000000</td>\n",
              "      <td>1.000000</td>\n",
              "    </tr>\n",
              "  </tbody>\n",
              "</table>\n",
              "</div>"
            ],
            "text/plain": [
              "               Age  Internships  ...  HistoryOfBacklogs  PlacedOrNot\n",
              "count  2966.000000  2966.000000  ...        2966.000000  2966.000000\n",
              "mean     21.485840     0.703641  ...           0.192178     0.552596\n",
              "std       1.324933     0.740197  ...           0.394079     0.497310\n",
              "min      19.000000     0.000000  ...           0.000000     0.000000\n",
              "25%      21.000000     0.000000  ...           0.000000     0.000000\n",
              "50%      21.000000     1.000000  ...           0.000000     1.000000\n",
              "75%      22.000000     1.000000  ...           0.000000     1.000000\n",
              "max      30.000000     3.000000  ...           1.000000     1.000000\n",
              "\n",
              "[8 rows x 6 columns]"
            ]
          },
          "metadata": {},
          "execution_count": 10
        }
      ]
    },
    {
      "cell_type": "markdown",
      "metadata": {
        "id": "zA2L6Sc7SS2e"
      },
      "source": [
        "##### Datatypes of each columns"
      ]
    },
    {
      "cell_type": "code",
      "metadata": {
        "colab": {
          "base_uri": "https://localhost:8080/"
        },
        "id": "RfcoY2gUOglB",
        "outputId": "29d66689-c2e1-442b-cdd6-69bc8c51ec33"
      },
      "source": [
        "df.dtypes"
      ],
      "execution_count": 11,
      "outputs": [
        {
          "output_type": "execute_result",
          "data": {
            "text/plain": [
              "Age                   int64\n",
              "Gender               object\n",
              "Stream               object\n",
              "Internships           int64\n",
              "CGPA                  int64\n",
              "Hostel                int64\n",
              "HistoryOfBacklogs     int64\n",
              "PlacedOrNot           int64\n",
              "dtype: object"
            ]
          },
          "metadata": {},
          "execution_count": 11
        }
      ]
    },
    {
      "cell_type": "markdown",
      "metadata": {
        "id": "9azEpwu3M5lA"
      },
      "source": [
        "## 🔥 Exploratory Data Analysis(EDA)¶\n",
        "In Exploratory Data Analysis We will Analyze To Find out the below stuff\n",
        "\n",
        "✔️ Missing Values\n",
        "\n",
        "✔️ All The Numerical Variables\n",
        "\n",
        "✔️ Distribution of the Numerical Variables\n",
        "\n",
        "✔️ Categorical Variables\n",
        "\n",
        "✔️ Cardinality of Categorical Variables\n",
        "\n",
        "✔️ Finding outliers\n",
        "\n",
        "✔️ Relationship between independent and dependent feature\n",
        "\n"
      ]
    },
    {
      "cell_type": "markdown",
      "metadata": {
        "id": "xiSPxyFQDg_Y"
      },
      "source": [
        "### Missing Values"
      ]
    },
    {
      "cell_type": "code",
      "metadata": {
        "colab": {
          "base_uri": "https://localhost:8080/"
        },
        "id": "QS5QtVGrD51o",
        "outputId": "07236cda-1cce-40a5-941c-4dff2f6afea8"
      },
      "source": [
        "missing_num = df[df.columns].isna().sum().sort_values(ascending=False)\n",
        "\n",
        "# total missing values in data frame\n",
        "missing_num"
      ],
      "execution_count": 12,
      "outputs": [
        {
          "output_type": "execute_result",
          "data": {
            "text/plain": [
              "PlacedOrNot          0\n",
              "HistoryOfBacklogs    0\n",
              "Hostel               0\n",
              "CGPA                 0\n",
              "Internships          0\n",
              "Stream               0\n",
              "Gender               0\n",
              "Age                  0\n",
              "dtype: int64"
            ]
          },
          "metadata": {},
          "execution_count": 12
        }
      ]
    },
    {
      "cell_type": "markdown",
      "metadata": {
        "id": "9nZMdWt2rIhy"
      },
      "source": [
        "*Sins there are no missing values , this data frame is pretty much clean. So we don't need to deal with missing values in Feature Engineering section*"
      ]
    },
    {
      "cell_type": "markdown",
      "metadata": {
        "id": "TBtdX4Ior6R8"
      },
      "source": [
        "### Numerical and Categorical features/ Variables"
      ]
    },
    {
      "cell_type": "code",
      "metadata": {
        "id": "ULij3pOwD59Z"
      },
      "source": [
        "numerical_cols = [col for col in df.columns if df[col].dtype!='O']\n",
        "categorical_cols = [col for col in df.columns if df[col].dtype=='O']"
      ],
      "execution_count": 13,
      "outputs": []
    },
    {
      "cell_type": "code",
      "metadata": {
        "colab": {
          "base_uri": "https://localhost:8080/"
        },
        "id": "Oa0teOr_ZSum",
        "outputId": "1bfb1443-f5f5-4487-cbaf-77de2a86de01"
      },
      "source": [
        "print(f\"Numberical columns are = {numerical_cols}\")\n",
        "print(f\"Categorical columns are = {categorical_cols}\")"
      ],
      "execution_count": 14,
      "outputs": [
        {
          "output_type": "stream",
          "name": "stdout",
          "text": [
            "Numberical columns are = ['Age', 'Internships', 'CGPA', 'Hostel', 'HistoryOfBacklogs', 'PlacedOrNot']\n",
            "Categorical columns are = ['Gender', 'Stream']\n"
          ]
        }
      ]
    },
    {
      "cell_type": "code",
      "metadata": {
        "id": "lv933vtfZWQ2"
      },
      "source": [
        "continuous_cols = [col for col in numerical_cols if df[col].nunique() >= 25]\n",
        "discrete_cols = [col for col in numerical_cols if df[col].nunique() < 25]"
      ],
      "execution_count": 15,
      "outputs": []
    },
    {
      "cell_type": "code",
      "metadata": {
        "colab": {
          "base_uri": "https://localhost:8080/"
        },
        "id": "WIgXjOjOZWVn",
        "outputId": "fb434cc4-78a3-43ba-c498-db7b750369dd"
      },
      "source": [
        "print(f\"Continuous values features are = {continuous_cols}\")\n",
        "print(f\"Discrete values feature is = {discrete_cols}\")"
      ],
      "execution_count": 16,
      "outputs": [
        {
          "output_type": "stream",
          "name": "stdout",
          "text": [
            "Continuous values features are = []\n",
            "Discrete values feature is = ['Age', 'Internships', 'CGPA', 'Hostel', 'HistoryOfBacklogs', 'PlacedOrNot']\n"
          ]
        }
      ]
    },
    {
      "cell_type": "markdown",
      "metadata": {
        "id": "I_BrCfy9wfOw"
      },
      "source": [
        "*There are two types of Numerical variables :*\n",
        " * Discrete Variables\n",
        " * Continuous Variable\n",
        "\n",
        "*But in this data frame all the feature comes in Discrete Variables beacause there are less than 25 unique values in numerical features. So we we put all togather in Numerical feature*\n"
      ]
    },
    {
      "cell_type": "markdown",
      "metadata": {
        "id": "Rl9K4BkwZ4RE"
      },
      "source": [
        " ### Distribution of the Numerical Variables\n"
      ]
    },
    {
      "cell_type": "code",
      "metadata": {
        "colab": {
          "base_uri": "https://localhost:8080/",
          "height": 532
        },
        "id": "Hw0-HI5snSaE",
        "outputId": "601e2357-e63a-4cd8-eab2-5cd091098829"
      },
      "source": [
        "plt.figure(figsize=(12, 14))\n",
        "\n",
        "for (i, col) in enumerate(discrete_cols,1):\n",
        "    plt.subplot(6, 2, i)\n",
        "    sns.histplot(df[col], bins=25)\n",
        "\n",
        "plt.tight_layout()\n",
        "plt.show()"
      ],
      "execution_count": 17,
      "outputs": [
        {
          "output_type": "display_data",
          "data": {
            "image/png": "[encoded data removed]",
            "text/plain": [
              "<Figure size 864x1008 with 6 Axes>"
            ]
          },
          "metadata": {
            "needs_background": "light"
          }
        }
      ]
    },
    {
      "cell_type": "markdown",
      "metadata": {
        "id": "ZHXDUBihn0vN"
      },
      "source": [
        ""
      ]
    },
    {
      "cell_type": "code",
      "metadata": {
        "colab": {
          "base_uri": "https://localhost:8080/",
          "height": 604
        },
        "id": "zwWUseNcnmoZ",
        "outputId": "8f0dfc7b-043e-4d06-b830-2ffb35994edc"
      },
      "source": [
        "plt.figure(figsize=(18, 16))\n",
        "\n",
        "for (i, col) in enumerate(numerical_cols[:-1],1):\n",
        "    plt.subplot(6, 2, i)\n",
        "    sns.histplot(x=df[col], kde=True)\n",
        "\n",
        "plt.tight_layout()\n",
        "plt.show()"
      ],
      "execution_count": 18,
      "outputs": [
        {
          "output_type": "display_data",
          "data": {
            "image/png": "[encoded data removed]",
            "text/plain": [
              "<Figure size 1296x1152 with 5 Axes>"
            ]
          },
          "metadata": {
            "needs_background": "light"
          }
        }
      ]
    },
    {
      "cell_type": "markdown",
      "metadata": {
        "id": "h9dWP0PBn1cB"
      },
      "source": [
        ""
      ]
    },
    {
      "cell_type": "markdown",
      "metadata": {
        "id": "Gz_-DMSlaR_q"
      },
      "source": [
        "### Categorical Variables\n",
        "\n",
        "The dataset contains only two categorical features Gender and Stream."
      ]
    },
    {
      "cell_type": "code",
      "metadata": {
        "colab": {
          "base_uri": "https://localhost:8080/",
          "height": 405
        },
        "id": "FoHy0KzkaRwR",
        "outputId": "2bebee0f-3129-4214-c4df-dee9af5b88d4"
      },
      "source": [
        "plt.figure(figsize=(10, 6))\n",
        "\n",
        "sns.countplot(y = df['Gender'])"
      ],
      "execution_count": 19,
      "outputs": [
        {
          "output_type": "execute_result",
          "data": {
            "text/plain": [
              "<matplotlib.axes._subplots.AxesSubplot at 0x7f8e26329390>"
            ]
          },
          "metadata": {},
          "execution_count": 19
        },
        {
          "output_type": "display_data",
          "data": {
            "image/png": "[encoded data removed]",
            "text/plain": [
              "<Figure size 720x432 with 1 Axes>"
            ]
          },
          "metadata": {
            "needs_background": "light"
          }
        }
      ]
    },
    {
      "cell_type": "markdown",
      "metadata": {
        "id": "MM3lSqhJa5Nu"
      },
      "source": [
        "Here we can see that Number of male students are much much heigher than female students."
      ]
    },
    {
      "cell_type": "code",
      "metadata": {
        "colab": {
          "base_uri": "https://localhost:8080/",
          "height": 405
        },
        "id": "TVi97ubPaoL4",
        "outputId": "b8cf9031-4364-4e3f-c846-ba205b810174"
      },
      "source": [
        "plt.figure(figsize=(10, 6))\n",
        "\n",
        "sns.countplot(y = df['Stream'])"
      ],
      "execution_count": 20,
      "outputs": [
        {
          "output_type": "execute_result",
          "data": {
            "text/plain": [
              "<matplotlib.axes._subplots.AxesSubplot at 0x7f8e26357450>"
            ]
          },
          "metadata": {},
          "execution_count": 20
        },
        {
          "output_type": "display_data",
          "data": {
            "image/png": "[encoded data removed]",
            "text/plain": [
              "<Figure size 720x432 with 1 Axes>"
            ]
          },
          "metadata": {
            "needs_background": "light"
          }
        }
      ]
    },
    {
      "cell_type": "markdown",
      "metadata": {
        "id": "8FgkG8ABa6Ry"
      },
      "source": [
        "Here we can see that Computer Science stream is most popular among students"
      ]
    },
    {
      "cell_type": "markdown",
      "metadata": {
        "id": "745ySt4WbQ0g"
      },
      "source": [
        "### outliers"
      ]
    },
    {
      "cell_type": "code",
      "metadata": {
        "colab": {
          "base_uri": "https://localhost:8080/",
          "height": 467
        },
        "id": "gg3EQZPYaoJx",
        "outputId": "ed87e885-d1c6-414c-9ce6-c9d0940144b7"
      },
      "source": [
        "plt.figure(figsize=(14, 8))\n",
        "\n",
        "count = 1\n",
        "for col in numerical_cols:\n",
        "    plt.subplot(4, 2, count)\n",
        "    sns.boxplot(x=df[col])\n",
        "    count += 1\n",
        "\n",
        "plt.tight_layout()\n",
        "plt.show()"
      ],
      "execution_count": 21,
      "outputs": [
        {
          "output_type": "display_data",
          "data": {
            "image/png": "[encoded data removed]",
            "text/plain": [
              "<Figure size 1008x576 with 6 Axes>"
            ]
          },
          "metadata": {
            "needs_background": "light"
          }
        }
      ]
    },
    {
      "cell_type": "markdown",
      "metadata": {
        "id": "65gLFuqffWFZ"
      },
      "source": [
        "### Hypothesis"
      ]
    },
    {
      "cell_type": "markdown",
      "metadata": {
        "id": "qsZAxUpmhBaQ"
      },
      "source": [
        "1. Gender Vs placement\n",
        "\n",
        "\n",
        "___\n",
        "Here we will view the realtionship between gender and placement, whether being male or female can change their placement possibility or not.\n",
        "\n",
        "In reality it should not show any kind of difference because of gender-eqality"
      ]
    },
    {
      "cell_type": "code",
      "metadata": {
        "colab": {
          "base_uri": "https://localhost:8080/",
          "height": 388
        },
        "id": "aHTQ4V5_hevD",
        "outputId": "c31e488b-f73e-4ecb-9a1f-5d37c41b03fc"
      },
      "source": [
        "plt.figure(figsize=(10, 6))\n",
        "\n",
        "sns.countplot(y = df['PlacedOrNot'], hue=df['Gender'])\n",
        "plt.show()"
      ],
      "execution_count": 22,
      "outputs": [
        {
          "output_type": "display_data",
          "data": {
            "image/png": "[encoded data removed]",
            "text/plain": [
              "<Figure size 720x432 with 1 Axes>"
            ]
          },
          "metadata": {
            "needs_background": "light"
          }
        }
      ]
    },
    {
      "cell_type": "markdown",
      "metadata": {
        "id": "jQv4ByK7idYa"
      },
      "source": [
        ""
      ]
    },
    {
      "cell_type": "code",
      "metadata": {
        "colab": {
          "base_uri": "https://localhost:8080/"
        },
        "id": "K0VdxP_4iAMN",
        "outputId": "c1ecb6b4-a3b9-418e-fd1b-143355c38dc9"
      },
      "source": [
        "df['Gender'].value_counts()"
      ],
      "execution_count": 23,
      "outputs": [
        {
          "output_type": "execute_result",
          "data": {
            "text/plain": [
              "Male      2475\n",
              "Female     491\n",
              "Name: Gender, dtype: int64"
            ]
          },
          "metadata": {},
          "execution_count": 23
        }
      ]
    },
    {
      "cell_type": "markdown",
      "metadata": {
        "id": "tzs69uLMiZw3"
      },
      "source": [
        ""
      ]
    },
    {
      "cell_type": "code",
      "metadata": {
        "colab": {
          "base_uri": "https://localhost:8080/"
        },
        "id": "RNHL8m3XiguN",
        "outputId": "b21bfada-adbb-4af3-e726-18efee4837df"
      },
      "source": [
        "total_no_males = df['Gender'].value_counts()['Male']\n",
        "total_no_females = df['Gender'].value_counts()['Female']\n",
        "\n",
        "print(f\"Number of male students = {total_no_males} and female students = {total_no_females}\")\n",
        "\n",
        "filt = df['PlacedOrNot'] == 1\n",
        "placed_males = df[filt]['Gender'].value_counts()['Male']\n",
        "placed_females = df[filt]['Gender'].value_counts()['Female']\n",
        "\n",
        "print(f\"Number students who were placed male = {placed_males} and female = {placed_females}\")\n",
        "print(f\"Percentage of beeing placed among males = {placed_males / total_no_males * 100 : 0.2f} %\")\n",
        "print(f\"Percentage of beeing placed among males = {placed_females / total_no_females * 100 : 0.2f} %\")"
      ],
      "execution_count": 24,
      "outputs": [
        {
          "output_type": "stream",
          "name": "stdout",
          "text": [
            "Number of male students = 2475 and female students = 491\n",
            "Number students who were placed male = 1364 and female = 275\n",
            "Percentage of beeing placed among males =  55.11 %\n",
            "Percentage of beeing placed among males =  56.01 %\n"
          ]
        }
      ]
    },
    {
      "cell_type": "markdown",
      "metadata": {
        "id": "Vvp7Lw1YkU0X"
      },
      "source": [
        ""
      ]
    },
    {
      "cell_type": "markdown",
      "metadata": {
        "id": "ucuQXeimlS8v"
      },
      "source": [
        "2. CGPA Vs placement\n",
        "\n",
        "\n",
        "___\n",
        "Here We are checking if a student's CGPA is heigher than avg then can it helps in placement times\n",
        "\n",
        "Our H0 hypothesis is it can not help. Meaning depending on someones CGPA it should not matter whether he/she be placed or not."
      ]
    },
    {
      "cell_type": "code",
      "metadata": {
        "colab": {
          "base_uri": "https://localhost:8080/",
          "height": 388
        },
        "id": "DlxM9pd6kv1y",
        "outputId": "e8235c94-426d-4bed-caa8-8ea6f88c4968"
      },
      "source": [
        "filt = df['CGPA'] > df['CGPA'].mean()\n",
        "\n",
        "df_heigher_cgpa = df[filt]\n",
        "\n",
        "plt.figure(figsize=(10, 6))\n",
        "\n",
        "sns.countplot(y = df_heigher_cgpa['PlacedOrNot'], hue=df_heigher_cgpa['CGPA'])\n",
        "plt.show()"
      ],
      "execution_count": 25,
      "outputs": [
        {
          "output_type": "display_data",
          "data": {
            "image/png": "[encoded data removed]",
            "text/plain": [
              "<Figure size 720x432 with 1 Axes>"
            ]
          },
          "metadata": {
            "needs_background": "light"
          }
        }
      ]
    },
    {
      "cell_type": "code",
      "metadata": {
        "colab": {
          "base_uri": "https://localhost:8080/"
        },
        "id": "EzsJ3-9OQNH6",
        "outputId": "2149392e-4121-4b3c-b9ec-02261b6e39c6"
      },
      "source": [
        "filt.value_counts()"
      ],
      "execution_count": 26,
      "outputs": [
        {
          "output_type": "execute_result",
          "data": {
            "text/plain": [
              "False    1886\n",
              "True     1080\n",
              "Name: CGPA, dtype: int64"
            ]
          },
          "metadata": {},
          "execution_count": 26
        }
      ]
    },
    {
      "cell_type": "code",
      "metadata": {
        "colab": {
          "base_uri": "https://localhost:8080/",
          "height": 388
        },
        "id": "t3D4mLr3l_Lr",
        "outputId": "aea21425-741c-4a3e-cce4-7a0150783266"
      },
      "source": [
        "df_lower_cgpa = df[~filt]\n",
        "plt.figure(figsize=(10, 6))\n",
        "\n",
        "sns.countplot(y = df_lower_cgpa['CGPA'], hue=df_lower_cgpa['PlacedOrNot'])\n",
        "plt.show()"
      ],
      "execution_count": 27,
      "outputs": [
        {
          "output_type": "display_data",
          "data": {
            "image/png": "[encoded data removed]",
            "text/plain": [
              "<Figure size 720x432 with 1 Axes>"
            ]
          },
          "metadata": {
            "needs_background": "light"
          }
        }
      ]
    },
    {
      "cell_type": "markdown",
      "metadata": {
        "id": "OjEczHgym3me"
      },
      "source": [
        "As we are seeing in the plots, there is no one who haven't get placed with more than average CGPA.\n",
        "And in case of lower CGPA than the average, there is huge difference between number of student have got placement and who havn't."
      ]
    },
    {
      "cell_type": "markdown",
      "metadata": {
        "id": "oXS8N1Cbm-MY"
      },
      "source": [
        "3. Internship Vs placement\n",
        "\n",
        "___\n",
        "Here We are checking if a student have any internship before their 6th sem can it effect their placement\n",
        "\n",
        "Our H0 hypothesis is it can not have any effect. Meaning if a student have 0 internship and others who have multiple internships should be equally be juged."
      ]
    },
    {
      "cell_type": "code",
      "metadata": {
        "colab": {
          "base_uri": "https://localhost:8080/",
          "height": 388
        },
        "id": "_TrXePKwodBP",
        "outputId": "2c15a796-47e4-4096-c10c-faf8416e6834"
      },
      "source": [
        "df_internships = df.copy()\n",
        "df_internships['Internships'] = np.where(df['Internships'] >= 1, 'yes', 'no')\n",
        "df_internships['PlacedOrNot'] = np.where(df['PlacedOrNot'] == 1, 'placed', 'not placed')\n",
        "plt.figure(figsize=(10, 6))\n",
        "\n",
        "sns.countplot(y = df_internships['Internships'], hue=df_internships['PlacedOrNot'])\n",
        "plt.show()"
      ],
      "execution_count": 28,
      "outputs": [
        {
          "output_type": "display_data",
          "data": {
            "image/png": "[encoded data removed]",
            "text/plain": [
              "<Figure size 720x432 with 1 Axes>"
            ]
          },
          "metadata": {
            "needs_background": "light"
          }
        }
      ]
    },
    {
      "cell_type": "code",
      "metadata": {
        "colab": {
          "base_uri": "https://localhost:8080/",
          "height": 388
        },
        "id": "ctGSymwRprJW",
        "outputId": "78c1079e-1c53-43ba-bfd3-93c2a619d910"
      },
      "source": [
        "df_internships = df.copy()\n",
        "df_internships['Internships'] = np.where(df['Internships'] >= 2, 'yes', 'no')\n",
        "df_internships['PlacedOrNot'] = np.where(df['PlacedOrNot'] == 1, 'placed', 'not placed')\n",
        "plt.figure(figsize=(10, 6))\n",
        "\n",
        "sns.countplot(y = df_internships['Internships'], hue=df_internships['PlacedOrNot'])\n",
        "plt.show()"
      ],
      "execution_count": 29,
      "outputs": [
        {
          "output_type": "display_data",
          "data": {
            "image/png": "[encoded data removed]",
            "text/plain": [
              "<Figure size 720x432 with 1 Axes>"
            ]
          },
          "metadata": {
            "needs_background": "light"
          }
        }
      ]
    },
    {
      "cell_type": "markdown",
      "metadata": {
        "id": "3zkFcCjlqe6N"
      },
      "source": [
        "We are not getting any idea by plotting the graph between 'No internship taker' and 'At least one internship taker'.\n",
        "So we plotted a graph between 'zero or one internship taker' and 'atleast two internship taker', it shows a huge improvement in getting placement."
      ]
    },
    {
      "cell_type": "markdown",
      "metadata": {
        "id": "YJLIc7Kfprg_"
      },
      "source": [
        "4. Backlog Vs Placement\n",
        "\n",
        "\n",
        "___\n",
        "Here We are checking if a student have any backlog before their 6th sem and can it effect their placement\n",
        "\n",
        "Our H0 hypothesis is it can not have any effect. Meaning if a student have backlogs and others who have no backlog should be equally be juged."
      ]
    },
    {
      "cell_type": "code",
      "metadata": {
        "colab": {
          "base_uri": "https://localhost:8080/",
          "height": 388
        },
        "id": "tHgRDZMGq4eW",
        "outputId": "541d4ef0-3f4f-4f46-9c00-8e4c381ba32c"
      },
      "source": [
        "df_backlog = df.copy()\n",
        "df_backlog['PlacedOrNot'] = np.where(df['PlacedOrNot'] == 1, 'placed', 'not placed')\n",
        "df_backlog['HistoryOfBacklogs'] = np.where(df['HistoryOfBacklogs'] >= 1, 'had backlogs', 'had no backlogs')\n",
        "\n",
        "plt.figure(figsize=(10, 6))\n",
        "\n",
        "sns.countplot(y = df_backlog['PlacedOrNot'], hue=df_backlog['HistoryOfBacklogs'])\n",
        "plt.show()"
      ],
      "execution_count": 30,
      "outputs": [
        {
          "output_type": "display_data",
          "data": {
            "image/png": "[encoded data removed]",
            "text/plain": [
              "<Figure size 720x432 with 1 Axes>"
            ]
          },
          "metadata": {
            "needs_background": "light"
          }
        }
      ]
    },
    {
      "cell_type": "markdown",
      "metadata": {
        "id": "VSj513Jqq3rk"
      },
      "source": [
        "It has no relation between placement and backlog. "
      ]
    },
    {
      "cell_type": "markdown",
      "metadata": {
        "id": "UBGoWo5hrqVO"
      },
      "source": [
        "6. Stream Vs Placement\n",
        "\n",
        "\n",
        "___\n",
        "Here We are checking if the student have any difference in chance of placement based on their respective branch.\n",
        "\n",
        "Our H0 hypothesis is "
      ]
    },
    {
      "cell_type": "code",
      "metadata": {
        "colab": {
          "base_uri": "https://localhost:8080/",
          "height": 606
        },
        "id": "HwHPVv0jq5e9",
        "outputId": "bf11a73d-fb91-440e-bef6-4075425e77a8"
      },
      "source": [
        "df_stream = df.copy()\n",
        "df_stream['PlacedOrNot'] = np.where(df['PlacedOrNot'] == 1, 'placed', 'not placed')\n",
        "\n",
        "plt.figure(figsize=(10, 10))\n",
        "\n",
        "sns.countplot(y = df_stream['Stream'], hue=df_stream['PlacedOrNot'])\n",
        "plt.show()"
      ],
      "execution_count": 31,
      "outputs": [
        {
          "output_type": "display_data",
          "data": {
            "image/png": "[encoded data removed]",
            "text/plain": [
              "<Figure size 720x720 with 1 Axes>"
            ]
          },
          "metadata": {
            "needs_background": "light"
          }
        }
      ]
    },
    {
      "cell_type": "code",
      "metadata": {
        "colab": {
          "base_uri": "https://localhost:8080/"
        },
        "id": "cMKC9FXHq6G-",
        "outputId": "9f58e7b5-36dd-44de-82b2-df7f0bcc74b0"
      },
      "source": [
        "df['Stream'].value_counts()"
      ],
      "execution_count": 32,
      "outputs": [
        {
          "output_type": "execute_result",
          "data": {
            "text/plain": [
              "Computer Science                 776\n",
              "Information Technology           691\n",
              "Mechanical                       424\n",
              "Electronics And Communication    424\n",
              "Electrical                       334\n",
              "Civil                            317\n",
              "Name: Stream, dtype: int64"
            ]
          },
          "metadata": {},
          "execution_count": 32
        }
      ]
    },
    {
      "cell_type": "code",
      "metadata": {
        "colab": {
          "base_uri": "https://localhost:8080/"
        },
        "id": "zQtnr8omsZ5P",
        "outputId": "62b787d7-01af-4303-fc0a-ef3cbf488c6c"
      },
      "source": [
        "df.groupby(['PlacedOrNot'])['Stream'].value_counts(normalize=True)"
      ],
      "execution_count": 33,
      "outputs": [
        {
          "output_type": "execute_result",
          "data": {
            "text/plain": [
              "PlacedOrNot  Stream                       \n",
              "0            Computer Science                 0.244160\n",
              "             Information Technology           0.212509\n",
              "             Mechanical                       0.168802\n",
              "             Electronics And Communication    0.130369\n",
              "             Civil                            0.128862\n",
              "             Electrical                       0.115298\n",
              "1            Computer Science                 0.275778\n",
              "             Information Technology           0.249542\n",
              "             Electronics And Communication    0.153142\n",
              "             Mechanical                       0.122026\n",
              "             Electrical                       0.110433\n",
              "             Civil                            0.089079\n",
              "Name: Stream, dtype: float64"
            ]
          },
          "metadata": {},
          "execution_count": 33
        }
      ]
    },
    {
      "cell_type": "code",
      "metadata": {
        "colab": {
          "base_uri": "https://localhost:8080/"
        },
        "id": "2fr6SpPGsaMX",
        "outputId": "b380e227-ee34-4fca-ff20-036c687d538a"
      },
      "source": [
        "df[df['PlacedOrNot']==1]['Stream'].value_counts() / df['Stream'].value_counts() * 100"
      ],
      "execution_count": 34,
      "outputs": [
        {
          "output_type": "execute_result",
          "data": {
            "text/plain": [
              "Civil                            46.056782\n",
              "Computer Science                 58.247423\n",
              "Electrical                       54.191617\n",
              "Electronics And Communication    59.198113\n",
              "Information Technology           59.189580\n",
              "Mechanical                       47.169811\n",
              "Name: Stream, dtype: float64"
            ]
          },
          "metadata": {},
          "execution_count": 34
        }
      ]
    },
    {
      "cell_type": "markdown",
      "metadata": {
        "id": "hr4giOOwtsMO"
      },
      "source": [
        "Our observation is, "
      ]
    },
    {
      "cell_type": "markdown",
      "metadata": {
        "id": "HxqvB1n5uOEQ"
      },
      "source": [
        "2. Hostel Vs placement\n",
        "\n",
        "\n",
        "___\n",
        "Here We are checking if a student have any internship before their 6th sem can it effect their placement\n",
        "\n",
        "Our H0 hypothesis is it can not have any effect. Meaning if a student have 0 internship and others who have multiple internships should be equally be juged."
      ]
    },
    {
      "cell_type": "code",
      "metadata": {
        "colab": {
          "base_uri": "https://localhost:8080/",
          "height": 606
        },
        "id": "FA-Bghy3ttGJ",
        "outputId": "f83113e3-78fa-4abd-cc21-36683015d250"
      },
      "source": [
        "df_hostel = df.copy()\n",
        "df_hostel['PlacedOrNot'] = np.where(df['PlacedOrNot'] == 1, 'placed', 'not placed')\n",
        "df_hostel['Hostel'] = np.where(df['Hostel'] == 1, 'hostel', 'no hostel')\n",
        "\n",
        "plt.figure(figsize=(10, 10))\n",
        "\n",
        "sns.countplot(y = df_hostel['Hostel'], hue=df_hostel['PlacedOrNot'])\n",
        "plt.show()"
      ],
      "execution_count": 35,
      "outputs": [
        {
          "output_type": "display_data",
          "data": {
            "image/png": "[encoded data removed]",
            "text/plain": [
              "<Figure size 720x720 with 1 Axes>"
            ]
          },
          "metadata": {
            "needs_background": "light"
          }
        }
      ]
    },
    {
      "cell_type": "markdown",
      "metadata": {
        "id": "0r38T5ReurMt"
      },
      "source": [
        ""
      ]
    },
    {
      "cell_type": "markdown",
      "metadata": {
        "id": "3vIxepxousCQ"
      },
      "source": [
        "2. Age Vs placement\n",
        "\n",
        "\n",
        "___\n",
        "Here We are checking if a student have any internship before their 6th sem can it effect their placement\n",
        "\n",
        "Our H0 hypothesis is it can not have any effect. Meaning if a student have 0 internship and others who have multiple internships should be equally be juged."
      ]
    },
    {
      "cell_type": "code",
      "metadata": {
        "colab": {
          "base_uri": "https://localhost:8080/",
          "height": 606
        },
        "id": "6qcLlWNFttYC",
        "outputId": "207460c4-2e43-44e8-a520-fac155eed1a0"
      },
      "source": [
        "df_age = df.copy()\n",
        "\n",
        "df_age['Age'] = np.where(df_age['Age'] > df_age['Age'].mean(), 'heigher age', 'lower age')\n",
        "df_hostel['PlacedOrNot'] = np.where(df['PlacedOrNot'] == 1, 'placed', 'not placed')\n",
        "\n",
        "plt.figure(figsize=(10, 10))\n",
        "\n",
        "sns.countplot(y = df_hostel['Age'], hue=df_hostel['PlacedOrNot'])\n",
        "plt.show()\n"
      ],
      "execution_count": 36,
      "outputs": [
        {
          "output_type": "display_data",
          "data": {
            "image/png": "[encoded data removed]",
            "text/plain": [
              "<Figure size 720x720 with 1 Axes>"
            ]
          },
          "metadata": {
            "needs_background": "light"
          }
        }
      ]
    },
    {
      "cell_type": "markdown",
      "metadata": {
        "id": "OeWCvxlIviZ0"
      },
      "source": [
        ""
      ]
    },
    {
      "cell_type": "code",
      "metadata": {
        "id": "AeI5XCBFttqR"
      },
      "source": [
        ""
      ],
      "execution_count": 36,
      "outputs": []
    },
    {
      "cell_type": "code",
      "metadata": {
        "id": "DBepGx5QtuHn"
      },
      "source": [
        ""
      ],
      "execution_count": 36,
      "outputs": []
    },
    {
      "cell_type": "code",
      "metadata": {
        "colab": {
          "base_uri": "https://localhost:8080/",
          "height": 388
        },
        "id": "5VXNSuzIHbL8",
        "outputId": "5191798b-74bb-4217-9a1e-759c896d5bd6"
      },
      "source": [
        "plt.figure(figsize=(10, 6))\n",
        "sns.histplot(df['Age'], kde= False, bins=10)\n",
        "plt.axvline(df['Age'].median(), color = '#fc4f30', label = 'Median age', linewidth = 3)\n",
        "plt.show()"
      ],
      "execution_count": 37,
      "outputs": [
        {
          "output_type": "display_data",
          "data": {
            "image/png": "[encoded data removed]",
            "text/plain": [
              "<Figure size 720x432 with 1 Axes>"
            ]
          },
          "metadata": {
            "needs_background": "light"
          }
        }
      ]
    },
    {
      "cell_type": "code",
      "metadata": {
        "id": "FyW7ExyVD6up",
        "colab": {
          "base_uri": "https://localhost:8080/",
          "height": 429
        },
        "outputId": "1e11c9b7-d8bf-47b3-f011-65ce36299964"
      },
      "source": [
        "plt.figure(figsize=(10, 6))\n",
        "sns.countplot(x='Stream',hue='PlacedOrNot',palette=\"PuBuGn\",data=df)\n",
        "plt.xticks(rotation=15)\n",
        "plt.show()"
      ],
      "execution_count": 38,
      "outputs": [
        {
          "output_type": "display_data",
          "data": {
            "image/png": "[encoded data removed]",
            "text/plain": [
              "<Figure size 720x432 with 1 Axes>"
            ]
          },
          "metadata": {
            "needs_background": "light"
          }
        }
      ]
    },
    {
      "cell_type": "markdown",
      "metadata": {
        "id": "g5sea8cFgQct"
      },
      "source": [
        "As we are seeing **Civil and Mechanical** branch have higher count of not getting placement than getting a placement."
      ]
    },
    {
      "cell_type": "code",
      "metadata": {
        "id": "EwzfX-etD6yI",
        "colab": {
          "base_uri": "https://localhost:8080/",
          "height": 466
        },
        "outputId": "350604e5-ad9b-42b1-fc25-eb9907d7fe24"
      },
      "source": [
        "plt.figure(figsize=(10, 6))\n",
        "sns.barplot(x='Stream',y='PlacedOrNot',hue='Gender',data=df)\n",
        "plt.xticks(rotation=-30)\n",
        "plt.show()"
      ],
      "execution_count": 39,
      "outputs": [
        {
          "output_type": "display_data",
          "data": {
            "image/png": "[encoded data removed]",
            "text/plain": [
              "<Figure size 720x432 with 1 Axes>"
            ]
          },
          "metadata": {
            "needs_background": "light"
          }
        }
      ]
    },
    {
      "cell_type": "code",
      "metadata": {
        "id": "FTR6sq0HD62J",
        "colab": {
          "base_uri": "https://localhost:8080/",
          "height": 466
        },
        "outputId": "7ee9d2ec-5f9a-420e-839e-8d487f106da2"
      },
      "source": [
        "plt.figure(figsize=(10, 6))\n",
        "sns.barplot(x='Stream',y='PlacedOrNot',hue='Internships',data=df)\n",
        "plt.xticks(rotation=-30)\n",
        "plt.show()"
      ],
      "execution_count": 40,
      "outputs": [
        {
          "output_type": "display_data",
          "data": {
            "image/png": "[encoded data removed]",
            "text/plain": [
              "<Figure size 720x432 with 1 Axes>"
            ]
          },
          "metadata": {
            "needs_background": "light"
          }
        }
      ]
    },
    {
      "cell_type": "code",
      "metadata": {
        "id": "Z8c0fCwseItG",
        "colab": {
          "base_uri": "https://localhost:8080/",
          "height": 405
        },
        "outputId": "efdfcc65-ad0c-4e59-e5c0-a0f9a06440cf"
      },
      "source": [
        "plt.figure(figsize=(10, 6))\n",
        "sns.countplot(x=df['Internships'].value_counts(),data=df)"
      ],
      "execution_count": 41,
      "outputs": [
        {
          "output_type": "execute_result",
          "data": {
            "text/plain": [
              "<matplotlib.axes._subplots.AxesSubplot at 0x7f8e196f6e50>"
            ]
          },
          "metadata": {},
          "execution_count": 41
        },
        {
          "output_type": "display_data",
          "data": {
            "image/png": "[encoded data removed]",
            "text/plain": [
              "<Figure size 720x432 with 1 Axes>"
            ]
          },
          "metadata": {
            "needs_background": "light"
          }
        }
      ]
    },
    {
      "cell_type": "markdown",
      "metadata": {
        "id": "3w992fTmbonw"
      },
      "source": [
        "### checking for multi-colinearity"
      ]
    },
    {
      "cell_type": "code",
      "metadata": {
        "id": "OBbxJ3VKaoHm",
        "colab": {
          "base_uri": "https://localhost:8080/",
          "height": 234
        },
        "outputId": "5ca72c84-ba31-4784-e482-5e1b9b2ebfcf"
      },
      "source": [
        "df.corr()"
      ],
      "execution_count": 42,
      "outputs": [
        {
          "output_type": "execute_result",
          "data": {
            "text/html": [
              "<div>\n",
              "<style scoped>\n",
              "    .dataframe tbody tr th:only-of-type {\n",
              "        vertical-align: middle;\n",
              "    }\n",
              "\n",
              "    .dataframe tbody tr th {\n",
              "        vertical-align: top;\n",
              "    }\n",
              "\n",
              "    .dataframe thead th {\n",
              "        text-align: right;\n",
              "    }\n",
              "</style>\n",
              "<table border=\"1\" class=\"dataframe\">\n",
              "  <thead>\n",
              "    <tr style=\"text-align: right;\">\n",
              "      <th></th>\n",
              "      <th>Age</th>\n",
              "      <th>Internships</th>\n",
              "      <th>CGPA</th>\n",
              "      <th>Hostel</th>\n",
              "      <th>HistoryOfBacklogs</th>\n",
              "      <th>PlacedOrNot</th>\n",
              "    </tr>\n",
              "  </thead>\n",
              "  <tbody>\n",
              "    <tr>\n",
              "      <th>Age</th>\n",
              "      <td>1.000000</td>\n",
              "      <td>0.006552</td>\n",
              "      <td>-0.119787</td>\n",
              "      <td>0.003042</td>\n",
              "      <td>-0.042586</td>\n",
              "      <td>0.046943</td>\n",
              "    </tr>\n",
              "    <tr>\n",
              "      <th>Internships</th>\n",
              "      <td>0.006552</td>\n",
              "      <td>1.000000</td>\n",
              "      <td>0.023496</td>\n",
              "      <td>0.004617</td>\n",
              "      <td>-0.015118</td>\n",
              "      <td>0.179334</td>\n",
              "    </tr>\n",
              "    <tr>\n",
              "      <th>CGPA</th>\n",
              "      <td>-0.119787</td>\n",
              "      <td>0.023496</td>\n",
              "      <td>1.000000</td>\n",
              "      <td>0.014991</td>\n",
              "      <td>0.002576</td>\n",
              "      <td>0.588648</td>\n",
              "    </tr>\n",
              "    <tr>\n",
              "      <th>Hostel</th>\n",
              "      <td>0.003042</td>\n",
              "      <td>0.004617</td>\n",
              "      <td>0.014991</td>\n",
              "      <td>1.000000</td>\n",
              "      <td>0.103506</td>\n",
              "      <td>-0.038182</td>\n",
              "    </tr>\n",
              "    <tr>\n",
              "      <th>HistoryOfBacklogs</th>\n",
              "      <td>-0.042586</td>\n",
              "      <td>-0.015118</td>\n",
              "      <td>0.002576</td>\n",
              "      <td>0.103506</td>\n",
              "      <td>1.000000</td>\n",
              "      <td>-0.022337</td>\n",
              "    </tr>\n",
              "    <tr>\n",
              "      <th>PlacedOrNot</th>\n",
              "      <td>0.046943</td>\n",
              "      <td>0.179334</td>\n",
              "      <td>0.588648</td>\n",
              "      <td>-0.038182</td>\n",
              "      <td>-0.022337</td>\n",
              "      <td>1.000000</td>\n",
              "    </tr>\n",
              "  </tbody>\n",
              "</table>\n",
              "</div>"
            ],
            "text/plain": [
              "                        Age  Internships  ...  HistoryOfBacklogs  PlacedOrNot\n",
              "Age                1.000000     0.006552  ...          -0.042586     0.046943\n",
              "Internships        0.006552     1.000000  ...          -0.015118     0.179334\n",
              "CGPA              -0.119787     0.023496  ...           0.002576     0.588648\n",
              "Hostel             0.003042     0.004617  ...           0.103506    -0.038182\n",
              "HistoryOfBacklogs -0.042586    -0.015118  ...           1.000000    -0.022337\n",
              "PlacedOrNot        0.046943     0.179334  ...          -0.022337     1.000000\n",
              "\n",
              "[6 rows x 6 columns]"
            ]
          },
          "metadata": {},
          "execution_count": 42
        }
      ]
    },
    {
      "cell_type": "code",
      "metadata": {
        "id": "ZRLCKIIzaoFh",
        "colab": {
          "base_uri": "https://localhost:8080/",
          "height": 585
        },
        "outputId": "7c211ac0-76fb-424a-ecc4-d6f2372b54dc"
      },
      "source": [
        "plt.figure(figsize=(8, 8))\n",
        "sns.heatmap(df.corr(), annot=True, fmt='0.2f')"
      ],
      "execution_count": 43,
      "outputs": [
        {
          "output_type": "execute_result",
          "data": {
            "text/plain": [
              "<matplotlib.axes._subplots.AxesSubplot at 0x7f8e19685c10>"
            ]
          },
          "metadata": {},
          "execution_count": 43
        },
        {
          "output_type": "display_data",
          "data": {
            "image/png": "[encoded data removed]",
            "text/plain": [
              "<Figure size 576x576 with 2 Axes>"
            ]
          },
          "metadata": {
            "needs_background": "light"
          }
        }
      ]
    },
    {
      "cell_type": "markdown",
      "metadata": {
        "id": "u1WyrAxJdHwz"
      },
      "source": [
        "In this plot more common values or higher activities are in brighter colors and less common or activity value are in darker colors\n",
        "\n",
        "Now we will analysis each numerical feature one by one and find out how it olter the possibality that a student will get placement or not\n",
        "\n",
        "First we will check the first numerical feature age. We will count how same age are there"
      ]
    },
    {
      "cell_type": "code",
      "metadata": {
        "colab": {
          "base_uri": "https://localhost:8080/",
          "height": 282
        },
        "id": "cIgWe_OwaoDU",
        "outputId": "ba186f89-4640-4dec-e2f7-b52d762345f2"
      },
      "source": [
        "plt.figure(figsize=(14, 4))\n",
        "plt.plot(df.corr()['PlacedOrNot'])"
      ],
      "execution_count": 45,
      "outputs": [
        {
          "output_type": "execute_result",
          "data": {
            "text/plain": [
              "[<matplotlib.lines.Line2D at 0x7f8e197e1950>]"
            ]
          },
          "metadata": {},
          "execution_count": 45
        },
        {
          "output_type": "display_data",
          "data": {
            "image/png": "[encoded data removed]",
            "text/plain": [
              "<Figure size 1008x288 with 1 Axes>"
            ]
          },
          "metadata": {
            "needs_background": "light"
          }
        }
      ]
    },
    {
      "cell_type": "code",
      "metadata": {
        "colab": {
          "base_uri": "https://localhost:8080/",
          "height": 237
        },
        "id": "ODDErAKTaoBC",
        "outputId": "b151a82e-1191-4237-b71b-b15f06c93ee9"
      },
      "source": [
        "from statsmodels.stats.outliers_influence import variance_inflation_factor\n",
        "\n",
        "def calc_vif(X):\n",
        "    # Calculating VIF\n",
        "    vif = pd.DataFrame()\n",
        "    \n",
        "    vif[\"variables\"] = X.columns\n",
        "    vif[\"VIF\"] = [variance_inflation_factor(X.values, i) for i in range(X.shape[1])]\n",
        "\n",
        "    return vif\n",
        "\n",
        "calc_vif(df[numerical_cols[:-1]])"
      ],
      "execution_count": 46,
      "outputs": [
        {
          "output_type": "stream",
          "name": "stderr",
          "text": [
            "/usr/local/lib/python3.7/dist-packages/statsmodels/tools/_testing.py:19: FutureWarning: pandas.util.testing is deprecated. Use the functions in the public API at pandas.testing instead.\n",
            "  import pandas.util.testing as tm\n"
          ]
        },
        {
          "output_type": "execute_result",
          "data": {
            "text/html": [
              "<div>\n",
              "<style scoped>\n",
              "    .dataframe tbody tr th:only-of-type {\n",
              "        vertical-align: middle;\n",
              "    }\n",
              "\n",
              "    .dataframe tbody tr th {\n",
              "        vertical-align: top;\n",
              "    }\n",
              "\n",
              "    .dataframe thead th {\n",
              "        text-align: right;\n",
              "    }\n",
              "</style>\n",
              "<table border=\"1\" class=\"dataframe\">\n",
              "  <thead>\n",
              "    <tr style=\"text-align: right;\">\n",
              "      <th></th>\n",
              "      <th>variables</th>\n",
              "      <th>VIF</th>\n",
              "    </tr>\n",
              "  </thead>\n",
              "  <tbody>\n",
              "    <tr>\n",
              "      <th>0</th>\n",
              "      <td>Age</td>\n",
              "      <td>42.209255</td>\n",
              "    </tr>\n",
              "    <tr>\n",
              "      <th>1</th>\n",
              "      <td>Internships</td>\n",
              "      <td>1.903508</td>\n",
              "    </tr>\n",
              "    <tr>\n",
              "      <th>2</th>\n",
              "      <td>CGPA</td>\n",
              "      <td>41.736787</td>\n",
              "    </tr>\n",
              "    <tr>\n",
              "      <th>3</th>\n",
              "      <td>Hostel</td>\n",
              "      <td>1.383046</td>\n",
              "    </tr>\n",
              "    <tr>\n",
              "      <th>4</th>\n",
              "      <td>HistoryOfBacklogs</td>\n",
              "      <td>1.249034</td>\n",
              "    </tr>\n",
              "  </tbody>\n",
              "</table>\n",
              "</div>"
            ],
            "text/plain": [
              "           variables        VIF\n",
              "0                Age  42.209255\n",
              "1        Internships   1.903508\n",
              "2               CGPA  41.736787\n",
              "3             Hostel   1.383046\n",
              "4  HistoryOfBacklogs   1.249034"
            ]
          },
          "metadata": {},
          "execution_count": 46
        }
      ]
    },
    {
      "cell_type": "markdown",
      "metadata": {
        "id": "KfGU-UUtcjQD"
      },
      "source": [
        "'CGPA', 'Age' these features are having very high VIF score which is not good. Because high VIF > 10 meaning multi-colinearity exist in data. Multi-Colinearity is very bad thing not only for regression but also for classification. So we will drop these columns and lets see how it affected others VIF score again"
      ]
    },
    {
      "cell_type": "code",
      "metadata": {
        "colab": {
          "base_uri": "https://localhost:8080/",
          "height": 172
        },
        "id": "4wWmaSYUan-s",
        "outputId": "f262f2f5-6493-4aaa-a53f-0cadd2e96463"
      },
      "source": [
        "df_cpy = df.drop('CGPA', axis=1)\n",
        "calc_vif(df_cpy[['Age', 'Internships', 'Hostel', 'HistoryOfBacklogs']])"
      ],
      "execution_count": 47,
      "outputs": [
        {
          "output_type": "execute_result",
          "data": {
            "text/html": [
              "<div>\n",
              "<style scoped>\n",
              "    .dataframe tbody tr th:only-of-type {\n",
              "        vertical-align: middle;\n",
              "    }\n",
              "\n",
              "    .dataframe tbody tr th {\n",
              "        vertical-align: top;\n",
              "    }\n",
              "\n",
              "    .dataframe thead th {\n",
              "        text-align: right;\n",
              "    }\n",
              "</style>\n",
              "<table border=\"1\" class=\"dataframe\">\n",
              "  <thead>\n",
              "    <tr style=\"text-align: right;\">\n",
              "      <th></th>\n",
              "      <th>variables</th>\n",
              "      <th>VIF</th>\n",
              "    </tr>\n",
              "  </thead>\n",
              "  <tbody>\n",
              "    <tr>\n",
              "      <th>0</th>\n",
              "      <td>Age</td>\n",
              "      <td>2.445461</td>\n",
              "    </tr>\n",
              "    <tr>\n",
              "      <th>1</th>\n",
              "      <td>Internships</td>\n",
              "      <td>1.899263</td>\n",
              "    </tr>\n",
              "    <tr>\n",
              "      <th>2</th>\n",
              "      <td>Hostel</td>\n",
              "      <td>1.382058</td>\n",
              "    </tr>\n",
              "    <tr>\n",
              "      <th>3</th>\n",
              "      <td>HistoryOfBacklogs</td>\n",
              "      <td>1.247805</td>\n",
              "    </tr>\n",
              "  </tbody>\n",
              "</table>\n",
              "</div>"
            ],
            "text/plain": [
              "           variables       VIF\n",
              "0                Age  2.445461\n",
              "1        Internships  1.899263\n",
              "2             Hostel  1.382058\n",
              "3  HistoryOfBacklogs  1.247805"
            ]
          },
          "metadata": {},
          "execution_count": 47
        }
      ]
    },
    {
      "cell_type": "markdown",
      "metadata": {
        "id": "LnVFni2ecsiD"
      },
      "source": [
        "So just removing CGPA all others VIF score is now under 10 which is good for our model."
      ]
    },
    {
      "cell_type": "markdown",
      "metadata": {
        "id": "woQRJxebpJhz"
      },
      "source": [
        ""
      ]
    },
    {
      "cell_type": "markdown",
      "metadata": {
        "id": "ltS2VMesEIEv"
      },
      "source": [
        "## 📈 Feature Engineering\n",
        "In Feature Engineering We will be handling To Find out the below stuff\n",
        "\n",
        "- Filling Missing values(numerical and categorical)\n",
        "- removing outliers from dataset\n",
        "- transform data to normal distribution(only continuous values)\n",
        "- scaling values(continuous values)\n",
        "- performing categorical encoding(One-Hot encoding)"
      ]
    },
    {
      "cell_type": "markdown",
      "metadata": {
        "id": "zPJsYV6ZN687"
      },
      "source": [
        "### Filling Missing values\n",
        "\n",
        "____\n",
        "\n",
        "Because the dataset doesn't contain any missing values thats why there is no need to apply any methods"
      ]
    },
    {
      "cell_type": "markdown",
      "metadata": {
        "id": "cpi_LvjAOrFY"
      },
      "source": [
        "### removing outliers from dataset\n",
        "\n",
        "___\n",
        "Only `Age` column containing outliers."
      ]
    },
    {
      "cell_type": "code",
      "metadata": {
        "id": "_rn7uy6DEsup"
      },
      "source": [
        "import scipy.stats as stat\n",
        "import pylab \n",
        "\n",
        "\n",
        "def plot_data(df,feature):\n",
        "    plt.figure(figsize=(10, 6))\n",
        "    \n",
        "    plt.subplot(1,2,1)\n",
        "    plt.title(col)\n",
        "    df[feature].hist()\n",
        "    \n",
        "    plt.subplot(1,2,2)\n",
        "    stat.probplot(df[feature],dist='norm',plot=pylab) # QQ plot\n",
        "    \n",
        "    plt.tight_layout()\n",
        "    plt.show()"
      ],
      "execution_count": 48,
      "outputs": []
    },
    {
      "cell_type": "code",
      "metadata": {
        "colab": {
          "base_uri": "https://localhost:8080/",
          "height": 203
        },
        "id": "QqZESx0PQFD1",
        "outputId": "97ff440e-2ead-47d6-d1b3-204f1b66ed2e"
      },
      "source": [
        "df.head()"
      ],
      "execution_count": 49,
      "outputs": [
        {
          "output_type": "execute_result",
          "data": {
            "text/html": [
              "<div>\n",
              "<style scoped>\n",
              "    .dataframe tbody tr th:only-of-type {\n",
              "        vertical-align: middle;\n",
              "    }\n",
              "\n",
              "    .dataframe tbody tr th {\n",
              "        vertical-align: top;\n",
              "    }\n",
              "\n",
              "    .dataframe thead th {\n",
              "        text-align: right;\n",
              "    }\n",
              "</style>\n",
              "<table border=\"1\" class=\"dataframe\">\n",
              "  <thead>\n",
              "    <tr style=\"text-align: right;\">\n",
              "      <th></th>\n",
              "      <th>Age</th>\n",
              "      <th>Gender</th>\n",
              "      <th>Stream</th>\n",
              "      <th>Internships</th>\n",
              "      <th>CGPA</th>\n",
              "      <th>Hostel</th>\n",
              "      <th>HistoryOfBacklogs</th>\n",
              "      <th>PlacedOrNot</th>\n",
              "    </tr>\n",
              "  </thead>\n",
              "  <tbody>\n",
              "    <tr>\n",
              "      <th>0</th>\n",
              "      <td>22</td>\n",
              "      <td>Male</td>\n",
              "      <td>Electronics And Communication</td>\n",
              "      <td>1</td>\n",
              "      <td>8</td>\n",
              "      <td>1</td>\n",
              "      <td>1</td>\n",
              "      <td>1</td>\n",
              "    </tr>\n",
              "    <tr>\n",
              "      <th>1</th>\n",
              "      <td>21</td>\n",
              "      <td>Female</td>\n",
              "      <td>Computer Science</td>\n",
              "      <td>0</td>\n",
              "      <td>7</td>\n",
              "      <td>1</td>\n",
              "      <td>1</td>\n",
              "      <td>1</td>\n",
              "    </tr>\n",
              "    <tr>\n",
              "      <th>2</th>\n",
              "      <td>22</td>\n",
              "      <td>Female</td>\n",
              "      <td>Information Technology</td>\n",
              "      <td>1</td>\n",
              "      <td>6</td>\n",
              "      <td>0</td>\n",
              "      <td>0</td>\n",
              "      <td>1</td>\n",
              "    </tr>\n",
              "    <tr>\n",
              "      <th>3</th>\n",
              "      <td>21</td>\n",
              "      <td>Male</td>\n",
              "      <td>Information Technology</td>\n",
              "      <td>0</td>\n",
              "      <td>8</td>\n",
              "      <td>0</td>\n",
              "      <td>1</td>\n",
              "      <td>1</td>\n",
              "    </tr>\n",
              "    <tr>\n",
              "      <th>4</th>\n",
              "      <td>22</td>\n",
              "      <td>Male</td>\n",
              "      <td>Mechanical</td>\n",
              "      <td>0</td>\n",
              "      <td>8</td>\n",
              "      <td>1</td>\n",
              "      <td>0</td>\n",
              "      <td>1</td>\n",
              "    </tr>\n",
              "  </tbody>\n",
              "</table>\n",
              "</div>"
            ],
            "text/plain": [
              "   Age  Gender  ... HistoryOfBacklogs  PlacedOrNot\n",
              "0   22    Male  ...                 1            1\n",
              "1   21  Female  ...                 1            1\n",
              "2   22  Female  ...                 0            1\n",
              "3   21    Male  ...                 1            1\n",
              "4   22    Male  ...                 0            1\n",
              "\n",
              "[5 rows x 8 columns]"
            ]
          },
          "metadata": {},
          "execution_count": 49
        }
      ]
    },
    {
      "cell_type": "code",
      "metadata": {
        "colab": {
          "base_uri": "https://localhost:8080/",
          "height": 1000
        },
        "id": "8f1RLYiaEsyb",
        "outputId": "d4e39a10-d5c3-49d9-f584-2d4e47a5b945"
      },
      "source": [
        "for col in numerical_cols[:-1]:\n",
        "    plot_data(df, col)"
      ],
      "execution_count": 50,
      "outputs": [
        {
          "output_type": "display_data",
          "data": {
            "image/png": "[encoded data removed]",
            "text/plain": [
              "<Figure size 720x432 with 2 Axes>"
            ]
          },
          "metadata": {
            "needs_background": "light"
          }
        },
        {
          "output_type": "display_data",
          "data": {
            "image/png": "[encoded data removed]",
            "text/plain": [
              "<Figure size 720x432 with 2 Axes>"
            ]
          },
          "metadata": {
            "needs_background": "light"
          }
        },
        {
          "output_type": "display_data",
          "data": {
            "image/png": "[encoded data removed]",
            "text/plain": [
              "<Figure size 720x432 with 2 Axes>"
            ]
          },
          "metadata": {
            "needs_background": "light"
          }
        },
        {
          "output_type": "display_data",
          "data": {
            "image/png": "[encoded data removed]",
            "text/plain": [
              "<Figure size 720x432 with 2 Axes>"
            ]
          },
          "metadata": {
            "needs_background": "light"
          }
        },
        {
          "output_type": "display_data",
          "data": {
            "image/png": "[encoded data removed]",
            "text/plain": [
              "<Figure size 720x432 with 2 Axes>"
            ]
          },
          "metadata": {
            "needs_background": "light"
          }
        }
      ]
    },
    {
      "cell_type": "code",
      "metadata": {
        "id": "BIUXnOG1QseV"
      },
      "source": [
        "def remove_outliers_non_normal(df, feature, CONST=1.75):\n",
        "    plt.figure(figsize=(8, 4))\n",
        "    newName =  feature + \"_copy\" \n",
        "    \n",
        "    df[newName] = df[feature].copy()\n",
        "\n",
        "\n",
        "    plt.subplot(1, 2, 1)\n",
        "    sns.histplot(df[feature], bins=50)\n",
        "    plt.title('Before removing outliers')\n",
        "\n",
        "    # ================================================================\n",
        "    # removing outliers from non-normal distribution\n",
        "    IQR = df[newName].quantile(0.75) - df[newName].quantile(0.25)\n",
        "    lower_boundary = df[newName].quantile(0.25)-(IQR*CONST)\n",
        "    uppper_boundary = df[newName].quantile(0.75)+(IQR*CONST)\n",
        "    \n",
        "    print(df[feature].describe())\n",
        "    print(f\"lower_boundary={lower_boundary} and uppper_boundary={uppper_boundary}\")\n",
        "    \n",
        "    filt_left = df[newName] <= lower_boundary\n",
        "    filt_right = df[newName] >= uppper_boundary\n",
        "\n",
        "    df.loc[filt_left , newName] = lower_boundary\n",
        "    df.loc[filt_right , newName] = uppper_boundary\n",
        "    # ================================================================\n",
        "\n",
        "    plt.subplot(1, 2, 2)\n",
        "    sns.histplot(df[newName], bins=50)\n",
        "    plt.title(newName)\n",
        "\n",
        "    plt.show()\n",
        "    \n",
        "    \n",
        "    plt.figure(figsize=(8, 4))\n",
        "\n",
        "    plt.subplot(1, 2, 1)\n",
        "    sns.boxplot(x=df[feature])\n",
        "    plt.title('before')\n",
        "\n",
        "    plt.subplot(1, 2, 2)\n",
        "    sns.boxplot(x=df[newName])\n",
        "    plt.title('after')\n",
        "\n",
        "    plt.show()\n",
        "    \n",
        "    return newName "
      ],
      "execution_count": 51,
      "outputs": []
    },
    {
      "cell_type": "code",
      "metadata": {
        "colab": {
          "base_uri": "https://localhost:8080/",
          "height": 761
        },
        "id": "9YYM_HFCQsqG",
        "outputId": "c250a0b6-cbaa-4250-9292-716cf0ea4c73"
      },
      "source": [
        "remove_outliers_non_normal(df, 'Age', 1.50)"
      ],
      "execution_count": 52,
      "outputs": [
        {
          "output_type": "stream",
          "name": "stdout",
          "text": [
            "count    2966.000000\n",
            "mean       21.485840\n",
            "std         1.324933\n",
            "min        19.000000\n",
            "25%        21.000000\n",
            "50%        21.000000\n",
            "75%        22.000000\n",
            "max        30.000000\n",
            "Name: Age, dtype: float64\n",
            "lower_boundary=19.5 and uppper_boundary=23.5\n"
          ]
        },
        {
          "output_type": "display_data",
          "data": {
            "image/png": "[encoded data removed]",
            "text/plain": [
              "<Figure size 576x288 with 2 Axes>"
            ]
          },
          "metadata": {
            "needs_background": "light"
          }
        },
        {
          "output_type": "display_data",
          "data": {
            "image/png": "[encoded data removed]",
            "text/plain": [
              "<Figure size 576x288 with 2 Axes>"
            ]
          },
          "metadata": {
            "needs_background": "light"
          }
        },
        {
          "output_type": "execute_result",
          "data": {
            "application/vnd.google.colaboratory.intrinsic+json": {
              "type": "string"
            },
            "text/plain": [
              "'Age_copy'"
            ]
          },
          "metadata": {},
          "execution_count": 52
        }
      ]
    },
    {
      "cell_type": "code",
      "metadata": {
        "id": "lh1F8OKPQsut"
      },
      "source": [
        "df['Age'] = df['Age_copy']\n",
        "df.drop('Age_copy', axis=1, inplace=True)"
      ],
      "execution_count": 53,
      "outputs": []
    },
    {
      "cell_type": "code",
      "metadata": {
        "colab": {
          "base_uri": "https://localhost:8080/",
          "height": 441
        },
        "id": "3uNj81FYQsyt",
        "outputId": "3dfa2f70-639e-4a62-da9e-e79eabe26104"
      },
      "source": [
        "plot_data(df, 'Age')"
      ],
      "execution_count": 54,
      "outputs": [
        {
          "output_type": "display_data",
          "data": {
            "image/png": "[encoded data removed]",
            "text/plain": [
              "<Figure size 720x432 with 2 Axes>"
            ]
          },
          "metadata": {
            "needs_background": "light"
          }
        }
      ]
    },
    {
      "cell_type": "markdown",
      "metadata": {
        "id": "ca8EGvzcUOjL"
      },
      "source": [
        "### Train Test Split\n",
        "\n",
        "before scaling values i must split it into train and test test to avoid data leakage."
      ]
    },
    {
      "cell_type": "markdown",
      "metadata": {
        "id": "VtOpgQnGWeuq"
      },
      "source": [
        "#### performing categorical encoding(One-Hot encoding)\n",
        "\n",
        "applying one-hot encoding on `'Gender','Stream'` columns"
      ]
    },
    {
      "cell_type": "code",
      "metadata": {
        "colab": {
          "base_uri": "https://localhost:8080/",
          "height": 203
        },
        "id": "uFu15PAHWaS2",
        "outputId": "2d151c5a-4cae-4385-8aa4-c16f2e4ea31b"
      },
      "source": [
        "df = pd.get_dummies(df, columns=['Gender','Stream'], drop_first=True)\n",
        "df.head()"
      ],
      "execution_count": 55,
      "outputs": [
        {
          "output_type": "execute_result",
          "data": {
            "text/html": [
              "<div>\n",
              "<style scoped>\n",
              "    .dataframe tbody tr th:only-of-type {\n",
              "        vertical-align: middle;\n",
              "    }\n",
              "\n",
              "    .dataframe tbody tr th {\n",
              "        vertical-align: top;\n",
              "    }\n",
              "\n",
              "    .dataframe thead th {\n",
              "        text-align: right;\n",
              "    }\n",
              "</style>\n",
              "<table border=\"1\" class=\"dataframe\">\n",
              "  <thead>\n",
              "    <tr style=\"text-align: right;\">\n",
              "      <th></th>\n",
              "      <th>Age</th>\n",
              "      <th>Internships</th>\n",
              "      <th>CGPA</th>\n",
              "      <th>Hostel</th>\n",
              "      <th>HistoryOfBacklogs</th>\n",
              "      <th>PlacedOrNot</th>\n",
              "      <th>Gender_Male</th>\n",
              "      <th>Stream_Computer Science</th>\n",
              "      <th>Stream_Electrical</th>\n",
              "      <th>Stream_Electronics And Communication</th>\n",
              "      <th>Stream_Information Technology</th>\n",
              "      <th>Stream_Mechanical</th>\n",
              "    </tr>\n",
              "  </thead>\n",
              "  <tbody>\n",
              "    <tr>\n",
              "      <th>0</th>\n",
              "      <td>22.0</td>\n",
              "      <td>1</td>\n",
              "      <td>8</td>\n",
              "      <td>1</td>\n",
              "      <td>1</td>\n",
              "      <td>1</td>\n",
              "      <td>1</td>\n",
              "      <td>0</td>\n",
              "      <td>0</td>\n",
              "      <td>1</td>\n",
              "      <td>0</td>\n",
              "      <td>0</td>\n",
              "    </tr>\n",
              "    <tr>\n",
              "      <th>1</th>\n",
              "      <td>21.0</td>\n",
              "      <td>0</td>\n",
              "      <td>7</td>\n",
              "      <td>1</td>\n",
              "      <td>1</td>\n",
              "      <td>1</td>\n",
              "      <td>0</td>\n",
              "      <td>1</td>\n",
              "      <td>0</td>\n",
              "      <td>0</td>\n",
              "      <td>0</td>\n",
              "      <td>0</td>\n",
              "    </tr>\n",
              "    <tr>\n",
              "      <th>2</th>\n",
              "      <td>22.0</td>\n",
              "      <td>1</td>\n",
              "      <td>6</td>\n",
              "      <td>0</td>\n",
              "      <td>0</td>\n",
              "      <td>1</td>\n",
              "      <td>0</td>\n",
              "      <td>0</td>\n",
              "      <td>0</td>\n",
              "      <td>0</td>\n",
              "      <td>1</td>\n",
              "      <td>0</td>\n",
              "    </tr>\n",
              "    <tr>\n",
              "      <th>3</th>\n",
              "      <td>21.0</td>\n",
              "      <td>0</td>\n",
              "      <td>8</td>\n",
              "      <td>0</td>\n",
              "      <td>1</td>\n",
              "      <td>1</td>\n",
              "      <td>1</td>\n",
              "      <td>0</td>\n",
              "      <td>0</td>\n",
              "      <td>0</td>\n",
              "      <td>1</td>\n",
              "      <td>0</td>\n",
              "    </tr>\n",
              "    <tr>\n",
              "      <th>4</th>\n",
              "      <td>22.0</td>\n",
              "      <td>0</td>\n",
              "      <td>8</td>\n",
              "      <td>1</td>\n",
              "      <td>0</td>\n",
              "      <td>1</td>\n",
              "      <td>1</td>\n",
              "      <td>0</td>\n",
              "      <td>0</td>\n",
              "      <td>0</td>\n",
              "      <td>0</td>\n",
              "      <td>1</td>\n",
              "    </tr>\n",
              "  </tbody>\n",
              "</table>\n",
              "</div>"
            ],
            "text/plain": [
              "    Age  Internships  ...  Stream_Information Technology  Stream_Mechanical\n",
              "0  22.0            1  ...                              0                  0\n",
              "1  21.0            0  ...                              0                  0\n",
              "2  22.0            1  ...                              1                  0\n",
              "3  21.0            0  ...                              1                  0\n",
              "4  22.0            0  ...                              0                  1\n",
              "\n",
              "[5 rows x 12 columns]"
            ]
          },
          "metadata": {},
          "execution_count": 55
        }
      ]
    },
    {
      "cell_type": "code",
      "metadata": {
        "id": "2Wk7K8f6Qs3W"
      },
      "source": [
        "X = df.drop('PlacedOrNot', axis=1)\n",
        "y = df['PlacedOrNot']"
      ],
      "execution_count": 56,
      "outputs": []
    },
    {
      "cell_type": "code",
      "metadata": {
        "id": "ixXGzUGqQs9B"
      },
      "source": [
        "from sklearn.model_selection import train_test_split\n",
        "\n",
        "\n",
        "X_train, X_test, y_train, y_test = train_test_split(X, y, test_size=0.33, random_state=0)"
      ],
      "execution_count": 57,
      "outputs": []
    },
    {
      "cell_type": "code",
      "metadata": {
        "colab": {
          "base_uri": "https://localhost:8080/"
        },
        "id": "BEc0gBizQtAt",
        "outputId": "23096138-e493-4891-e6b8-a6ca529b6935"
      },
      "source": [
        "print(f\"X_train.shape={X_train.shape}\")\n",
        "print(f\"X_test.shape={X_test.shape}\")\n",
        "print(f\"y_train.shape={y_train.shape}\")\n",
        "print(f\"y_test.shape={y_test.shape}\")"
      ],
      "execution_count": 58,
      "outputs": [
        {
          "output_type": "stream",
          "name": "stdout",
          "text": [
            "X_train.shape=(1987, 11)\n",
            "X_test.shape=(979, 11)\n",
            "y_train.shape=(1987,)\n",
            "y_test.shape=(979,)\n"
          ]
        }
      ]
    },
    {
      "cell_type": "markdown",
      "metadata": {
        "id": "iUuM0Cc-UlkY"
      },
      "source": [
        "### scaling values"
      ]
    },
    {
      "cell_type": "code",
      "metadata": {
        "colab": {
          "base_uri": "https://localhost:8080/",
          "height": 585
        },
        "id": "CKF5OIt6US69",
        "outputId": "2c0b7995-b389-4691-f9d0-4ccd853fa198"
      },
      "source": [
        "plt.figure(figsize=(12, 8))\n",
        "\n",
        "count = 1\n",
        "for col in numerical_cols[:-1]:\n",
        "    plt.subplot(3, 2, count)\n",
        "    sns.boxplot(x=df[col])\n",
        "    count += 1\n",
        "\n",
        "plt.tight_layout()\n",
        "plt.show()"
      ],
      "execution_count": 59,
      "outputs": [
        {
          "output_type": "display_data",
          "data": {
            "image/png": "[encoded data removed]",
            "text/plain": [
              "<Figure size 864x576 with 5 Axes>"
            ]
          },
          "metadata": {
            "needs_background": "light"
          }
        }
      ]
    },
    {
      "cell_type": "markdown",
      "metadata": {
        "id": "fBnpkJ-UU6MY"
      },
      "source": [
        "In X_train `internships, HistoryOfBacklogs` containing outliers so we will use robust scaler onl for bmi and rest use standardization."
      ]
    },
    {
      "cell_type": "markdown",
      "metadata": {
        "id": "KVT4dcnIXlB3"
      },
      "source": [
        "### transform data to normal distribution(only continuous values)\n",
        "\n",
        "___\n",
        "Here only Age was continuous and it is already following normal distribution, so no need to apply any methods here"
      ]
    },
    {
      "cell_type": "markdown",
      "metadata": {
        "id": "cG5uR6biXPsG"
      },
      "source": [
        "### scaling values(continuous values)"
      ]
    },
    {
      "cell_type": "code",
      "metadata": {
        "colab": {
          "base_uri": "https://localhost:8080/"
        },
        "id": "jhb7YUIKqi1j",
        "outputId": "1ceb1b9f-4404-4a80-cdee-1cd998246af9"
      },
      "source": [
        "pip install xgboost"
      ],
      "execution_count": 60,
      "outputs": [
        {
          "output_type": "stream",
          "name": "stdout",
          "text": [
            "Requirement already satisfied: xgboost in /usr/local/lib/python3.7/dist-packages (0.90)\n",
            "Requirement already satisfied: scipy in /usr/local/lib/python3.7/dist-packages (from xgboost) (1.4.1)\n",
            "Requirement already satisfied: numpy in /usr/local/lib/python3.7/dist-packages (from xgboost) (1.19.5)\n"
          ]
        }
      ]
    },
    {
      "cell_type": "code",
      "metadata": {
        "id": "CpvsF4Cmqi59"
      },
      "source": [
        "import xgboost as xgb\n",
        "\n",
        "xgb_cl = xgb.XGBClassifier(objective='binary:logistic', missing=None, seed=0)"
      ],
      "execution_count": 61,
      "outputs": []
    },
    {
      "cell_type": "code",
      "metadata": {
        "colab": {
          "base_uri": "https://localhost:8080/"
        },
        "id": "PS8cx811qi_L",
        "outputId": "b2834d5e-e256-406a-8575-28fac07dc55f"
      },
      "source": [
        "xgb_cl.fit(X_train, y_train, verbose=True, eval_metric='auc', eval_set=[(X_test, y_test)],\n",
        "           early_stopping_rounds=20)"
      ],
      "execution_count": 62,
      "outputs": [
        {
          "output_type": "stream",
          "name": "stdout",
          "text": [
            "[0]\tvalidation_0-auc:0.911025\n",
            "Will train until validation_0-auc hasn't improved in 20 rounds.\n",
            "[1]\tvalidation_0-auc:0.911025\n",
            "[2]\tvalidation_0-auc:0.911159\n",
            "[3]\tvalidation_0-auc:0.911159\n",
            "[4]\tvalidation_0-auc:0.911159\n",
            "[5]\tvalidation_0-auc:0.911159\n",
            "[6]\tvalidation_0-auc:0.911125\n",
            "[7]\tvalidation_0-auc:0.911159\n",
            "[8]\tvalidation_0-auc:0.911832\n",
            "[9]\tvalidation_0-auc:0.911798\n",
            "[10]\tvalidation_0-auc:0.912216\n",
            "[11]\tvalidation_0-auc:0.915155\n",
            "[12]\tvalidation_0-auc:0.915155\n",
            "[13]\tvalidation_0-auc:0.919644\n",
            "[14]\tvalidation_0-auc:0.920188\n",
            "[15]\tvalidation_0-auc:0.927584\n",
            "[16]\tvalidation_0-auc:0.92772\n",
            "[17]\tvalidation_0-auc:0.931562\n",
            "[18]\tvalidation_0-auc:0.931409\n",
            "[19]\tvalidation_0-auc:0.931702\n",
            "[20]\tvalidation_0-auc:0.931311\n",
            "[21]\tvalidation_0-auc:0.93132\n",
            "[22]\tvalidation_0-auc:0.931269\n",
            "[23]\tvalidation_0-auc:0.931328\n",
            "[24]\tvalidation_0-auc:0.931239\n",
            "[25]\tvalidation_0-auc:0.931303\n",
            "[26]\tvalidation_0-auc:0.931248\n",
            "[27]\tvalidation_0-auc:0.930104\n",
            "[28]\tvalidation_0-auc:0.930134\n",
            "[29]\tvalidation_0-auc:0.930129\n",
            "[30]\tvalidation_0-auc:0.929038\n",
            "[31]\tvalidation_0-auc:0.92917\n",
            "[32]\tvalidation_0-auc:0.92903\n",
            "[33]\tvalidation_0-auc:0.929234\n",
            "[34]\tvalidation_0-auc:0.929482\n",
            "[35]\tvalidation_0-auc:0.929516\n",
            "[36]\tvalidation_0-auc:0.929529\n",
            "[37]\tvalidation_0-auc:0.929537\n",
            "[38]\tvalidation_0-auc:0.92921\n",
            "[39]\tvalidation_0-auc:0.92938\n",
            "Stopping. Best iteration:\n",
            "[19]\tvalidation_0-auc:0.931702\n",
            "\n"
          ]
        },
        {
          "output_type": "execute_result",
          "data": {
            "text/plain": [
              "XGBClassifier(base_score=0.5, booster='gbtree', colsample_bylevel=1,\n",
              "              colsample_bynode=1, colsample_bytree=1, gamma=0,\n",
              "              learning_rate=0.1, max_delta_step=0, max_depth=3,\n",
              "              min_child_weight=1, missing=None, n_estimators=100, n_jobs=1,\n",
              "              nthread=None, objective='binary:logistic', random_state=0,\n",
              "              reg_alpha=0, reg_lambda=1, scale_pos_weight=1, seed=0,\n",
              "              silent=None, subsample=1, verbosity=1)"
            ]
          },
          "metadata": {},
          "execution_count": 62
        }
      ]
    },
    {
      "cell_type": "code",
      "metadata": {
        "id": "v6hR-gYYqjCz"
      },
      "source": [
        "from sklearn.metrics import classification_report"
      ],
      "execution_count": 63,
      "outputs": []
    },
    {
      "cell_type": "code",
      "metadata": {
        "id": "bEDVxgVUqjGh"
      },
      "source": [
        "y_pred = xgb_cl.predict(X_test)"
      ],
      "execution_count": 64,
      "outputs": []
    },
    {
      "cell_type": "code",
      "metadata": {
        "colab": {
          "base_uri": "https://localhost:8080/"
        },
        "id": "5vCZ7FeFubYK",
        "outputId": "222e38a2-143c-4d0e-8599-44a6f06bd9d4"
      },
      "source": [
        "print(classification_report(y_test, y_pred))"
      ],
      "execution_count": 65,
      "outputs": [
        {
          "output_type": "stream",
          "name": "stdout",
          "text": [
            "              precision    recall  f1-score   support\n",
            "\n",
            "           0       0.82      0.91      0.86       426\n",
            "           1       0.93      0.84      0.88       553\n",
            "\n",
            "    accuracy                           0.87       979\n",
            "   macro avg       0.87      0.88      0.87       979\n",
            "weighted avg       0.88      0.87      0.87       979\n",
            "\n"
          ]
        }
      ]
    },
    {
      "cell_type": "code",
      "metadata": {
        "colab": {
          "base_uri": "https://localhost:8080/"
        },
        "id": "FxqYi56yt_Oj",
        "outputId": "487c3953-cd14-437c-921d-66843ad95b0e"
      },
      "source": [
        "print(classification_report(y_test, y_pred))"
      ],
      "execution_count": 66,
      "outputs": [
        {
          "output_type": "stream",
          "name": "stdout",
          "text": [
            "              precision    recall  f1-score   support\n",
            "\n",
            "           0       0.82      0.91      0.86       426\n",
            "           1       0.93      0.84      0.88       553\n",
            "\n",
            "    accuracy                           0.87       979\n",
            "   macro avg       0.87      0.88      0.87       979\n",
            "weighted avg       0.88      0.87      0.87       979\n",
            "\n"
          ]
        }
      ]
    },
    {
      "cell_type": "code",
      "metadata": {
        "colab": {
          "base_uri": "https://localhost:8080/"
        },
        "id": "jhfMozMrqjKb",
        "outputId": "66d04b7e-3636-46d3-b9d2-d42ec7d6cd4d"
      },
      "source": [
        "print(classification_report(y_test, y_pred))"
      ],
      "execution_count": 67,
      "outputs": [
        {
          "output_type": "stream",
          "name": "stdout",
          "text": [
            "              precision    recall  f1-score   support\n",
            "\n",
            "           0       0.82      0.91      0.86       426\n",
            "           1       0.93      0.84      0.88       553\n",
            "\n",
            "    accuracy                           0.87       979\n",
            "   macro avg       0.87      0.88      0.87       979\n",
            "weighted avg       0.88      0.87      0.87       979\n",
            "\n"
          ]
        }
      ]
    },
    {
      "cell_type": "code",
      "metadata": {
        "id": "vW0u5AvPtgSJ"
      },
      "source": [
        "from sklearn.metrics import confusion_matrix, plot_confusion_matrix"
      ],
      "execution_count": 68,
      "outputs": []
    },
    {
      "cell_type": "code",
      "metadata": {
        "colab": {
          "base_uri": "https://localhost:8080/",
          "height": 296
        },
        "id": "qVauSe_ItMOi",
        "outputId": "05456f8c-979b-46c6-f9b7-86a1ee0c99c6"
      },
      "source": [
        "plot_confusion_matrix(xgb_cl, X_test, y_test, values_format='d',\n",
        "                      display_labels=['not placed', 'placed'])"
      ],
      "execution_count": 69,
      "outputs": [
        {
          "output_type": "execute_result",
          "data": {
            "text/plain": [
              "<sklearn.metrics._plot.confusion_matrix.ConfusionMatrixDisplay at 0x7f8e193c91d0>"
            ]
          },
          "metadata": {},
          "execution_count": 69
        },
        {
          "output_type": "display_data",
          "data": {
            "image/png": "[encoded data removed]",
            "text/plain": [
              "<Figure size 432x288 with 2 Axes>"
            ]
          },
          "metadata": {
            "needs_background": "light"
          }
        }
      ]
    },
    {
      "cell_type": "code",
      "metadata": {
        "colab": {
          "base_uri": "https://localhost:8080/",
          "height": 296
        },
        "id": "BH5-zv0ktMTF",
        "outputId": "cde89aae-d6d7-4dcf-b76f-d90434c49d02"
      },
      "source": [
        "plot_confusion_matrix(xgb_cl, X_test, y_test, values_format='d',\n",
        "                      display_labels=['not placed', 'placed'])"
      ],
      "execution_count": 70,
      "outputs": [
        {
          "output_type": "execute_result",
          "data": {
            "text/plain": [
              "<sklearn.metrics._plot.confusion_matrix.ConfusionMatrixDisplay at 0x7f8e1948eb50>"
            ]
          },
          "metadata": {},
          "execution_count": 70
        },
        {
          "output_type": "display_data",
          "data": {
            "image/png": "[encoded data removed]",
            "text/plain": [
              "<Figure size 432x288 with 2 Axes>"
            ]
          },
          "metadata": {
            "needs_background": "light"
          }
        }
      ]
    },
    {
      "cell_type": "code",
      "metadata": {
        "id": "yfPrgwaMtMYB"
      },
      "source": [
        "from sklearn.model_selection import GridSearchCV"
      ],
      "execution_count": 71,
      "outputs": []
    },
    {
      "cell_type": "code",
      "metadata": {
        "id": "fpeU2COAwg8D"
      },
      "source": [
        "param_grid1 = {\n",
        "            'max_depth':[3, 4, 5],\n",
        "            'learning_rate':[0.01, 0.013, 0.15, 0.2],\n",
        "            'gamma':[0, 0.1, 0.25, 0.5],\n",
        "            'reg_lamda':[0, 0.25, 0.5, 1],\n",
        "            'scale_pos_weight':[1, 3, 5],\n",
        "            'subsample': [0.5, 0.75, 0.9]\n",
        "}"
      ],
      "execution_count": 72,
      "outputs": []
    },
    {
      "cell_type": "code",
      "metadata": {
        "id": "NZTESRj5tMcy"
      },
      "source": [
        "param_grid2 = {\n",
        "            'max_depth':[5],\n",
        "            'learning_rate':[0.2],\n",
        "            'gamma':[0],\n",
        "            'reg_lamda':[10, 20, 40, 60, 100],\n",
        "            'scale_pos_weight':[1]\n",
        "}"
      ],
      "execution_count": 73,
      "outputs": []
    },
    {
      "cell_type": "code",
      "metadata": {
        "id": "egUCR3pfu2Zi"
      },
      "source": [
        "from sklearn.model_selection import KFold"
      ],
      "execution_count": 74,
      "outputs": []
    },
    {
      "cell_type": "code",
      "metadata": {
        "id": "PhzKP_UWu2eC"
      },
      "source": [
        "kfold = KFold(10)"
      ],
      "execution_count": 75,
      "outputs": []
    },
    {
      "cell_type": "code",
      "metadata": {
        "id": "7rXpNOeRu2iy"
      },
      "source": [
        "optimal_params = GridSearchCV(xgb.XGBClassifier(objective='binary:logistic', missing=None, seed=0, subsample=0.9, colsample_bytree=0.5),\n",
        "                            param_grid=param_grid1,\n",
        "                            verbose=0,\n",
        "                            n_jobs=-1,\n",
        "                            cv=10)"
      ],
      "execution_count": 76,
      "outputs": []
    },
    {
      "cell_type": "code",
      "metadata": {
        "colab": {
          "base_uri": "https://localhost:8080/"
        },
        "id": "xECTWShVvuXr",
        "outputId": "e55fccc8-af08-46a7-8666-c2fecf2584f8"
      },
      "source": [
        "optimal_params.get_params"
      ],
      "execution_count": 77,
      "outputs": [
        {
          "output_type": "execute_result",
          "data": {
            "text/plain": [
              "<bound method BaseEstimator.get_params of GridSearchCV(cv=10, error_score=nan,\n",
              "             estimator=XGBClassifier(base_score=0.5, booster='gbtree',\n",
              "                                     colsample_bylevel=1, colsample_bynode=1,\n",
              "                                     colsample_bytree=0.5, gamma=0,\n",
              "                                     learning_rate=0.1, max_delta_step=0,\n",
              "                                     max_depth=3, min_child_weight=1,\n",
              "                                     missing=None, n_estimators=100, n_jobs=1,\n",
              "                                     nthread=None, objective='binary:logistic',\n",
              "                                     random_state=0, reg_alpha=0, reg_lambda=1,\n",
              "                                     scale_pos_weight=1, seed=0, silent=None,\n",
              "                                     subsample=0.9, verbosity=1),\n",
              "             iid='deprecated', n_jobs=-1,\n",
              "             param_grid={'gamma': [0, 0.1, 0.25, 0.5],\n",
              "                         'learning_rate': [0.01, 0.013, 0.15, 0.2],\n",
              "                         'max_depth': [3, 4, 5], 'reg_lamda': [0, 0.25, 0.5, 1],\n",
              "                         'scale_pos_weight': [1, 3, 5],\n",
              "                         'subsample': [0.5, 0.75, 0.9]},\n",
              "             pre_dispatch='2*n_jobs', refit=True, return_train_score=False,\n",
              "             scoring=None, verbose=0)>"
            ]
          },
          "metadata": {},
          "execution_count": 77
        }
      ]
    },
    {
      "cell_type": "code",
      "metadata": {
        "colab": {
          "base_uri": "https://localhost:8080/"
        },
        "id": "DJ0JAKqdvubq",
        "outputId": "d5335d99-59a6-4624-ea6b-2258f70ff463"
      },
      "source": [
        "optimal_params.fit(X_train, y_train)\n",
        "print(optimal_params.best_score_)\n",
        "print(optimal_params.best_params_)\n",
        "print(optimal_params.best_estimator_)"
      ],
      "execution_count": 78,
      "outputs": [
        {
          "output_type": "stream",
          "name": "stdout",
          "text": [
            "0.8822470940561393\n",
            "{'gamma': 0, 'learning_rate': 0.2, 'max_depth': 5, 'reg_lamda': 0, 'scale_pos_weight': 1, 'subsample': 0.9}\n",
            "XGBClassifier(base_score=0.5, booster='gbtree', colsample_bylevel=1,\n",
            "              colsample_bynode=1, colsample_bytree=0.5, gamma=0,\n",
            "              learning_rate=0.2, max_delta_step=0, max_depth=5,\n",
            "              min_child_weight=1, missing=None, n_estimators=100, n_jobs=1,\n",
            "              nthread=None, objective='binary:logistic', random_state=0,\n",
            "              reg_alpha=0, reg_lambda=1, reg_lamda=0, scale_pos_weight=1,\n",
            "              seed=0, silent=None, subsample=0.9, verbosity=1)\n"
          ]
        }
      ]
    },
    {
      "cell_type": "code",
      "metadata": {
        "colab": {
          "base_uri": "https://localhost:8080/"
        },
        "id": "LaeRLjpIQ3H6",
        "outputId": "e8e34968-2543-46b1-a3e9-b11fdd137615"
      },
      "source": [
        "xgb_cl = xgb.XGBClassifier(base_score=0.5, booster='gbtree', colsample_bylevel=1,\n",
        "              colsample_bynode=1, colsample_bytree=0.5, gamma=0,\n",
        "              learning_rate=0.2, max_delta_step=0, max_depth=5,\n",
        "              min_child_weight=1, missing=None, n_estimators=100, n_jobs=1,\n",
        "              nthread=None, objective='binary:logistic', random_state=0,\n",
        "              reg_alpha=0, reg_lambda=1, reg_lamda=0, scale_pos_weight=1,\n",
        "              seed=0, silent=None, subsample=0.9, verbosity=1)\n",
        "\n",
        "xgb_cl.fit(X_train, y_train, verbose=True, eval_metric='auc', eval_set=[(X_test, y_test)],\n",
        "           early_stopping_rounds=20)"
      ],
      "execution_count": 79,
      "outputs": [
        {
          "output_type": "stream",
          "name": "stdout",
          "text": [
            "[0]\tvalidation_0-auc:0.637922\n",
            "Will train until validation_0-auc hasn't improved in 20 rounds.\n",
            "[1]\tvalidation_0-auc:0.929431\n",
            "[2]\tvalidation_0-auc:0.931568\n",
            "[3]\tvalidation_0-auc:0.931165\n",
            "[4]\tvalidation_0-auc:0.934024\n",
            "[5]\tvalidation_0-auc:0.935085\n",
            "[6]\tvalidation_0-auc:0.934705\n",
            "[7]\tvalidation_0-auc:0.937783\n",
            "[8]\tvalidation_0-auc:0.938428\n",
            "[9]\tvalidation_0-auc:0.936437\n",
            "[10]\tvalidation_0-auc:0.935066\n",
            "[11]\tvalidation_0-auc:0.93538\n",
            "[12]\tvalidation_0-auc:0.936637\n",
            "[13]\tvalidation_0-auc:0.93652\n",
            "[14]\tvalidation_0-auc:0.937233\n",
            "[15]\tvalidation_0-auc:0.937416\n",
            "[16]\tvalidation_0-auc:0.936596\n",
            "[17]\tvalidation_0-auc:0.936927\n",
            "[18]\tvalidation_0-auc:0.936613\n",
            "[19]\tvalidation_0-auc:0.936562\n",
            "[20]\tvalidation_0-auc:0.936773\n",
            "[21]\tvalidation_0-auc:0.937893\n",
            "[22]\tvalidation_0-auc:0.936976\n",
            "[23]\tvalidation_0-auc:0.936815\n",
            "[24]\tvalidation_0-auc:0.93729\n",
            "[25]\tvalidation_0-auc:0.938364\n",
            "[26]\tvalidation_0-auc:0.937634\n",
            "[27]\tvalidation_0-auc:0.938462\n",
            "[28]\tvalidation_0-auc:0.938878\n",
            "[29]\tvalidation_0-auc:0.939493\n",
            "[30]\tvalidation_0-auc:0.94061\n",
            "[31]\tvalidation_0-auc:0.940444\n",
            "[32]\tvalidation_0-auc:0.94086\n",
            "[33]\tvalidation_0-auc:0.941098\n",
            "[34]\tvalidation_0-auc:0.941968\n",
            "[35]\tvalidation_0-auc:0.942181\n",
            "[36]\tvalidation_0-auc:0.941705\n",
            "[37]\tvalidation_0-auc:0.942066\n",
            "[38]\tvalidation_0-auc:0.941769\n",
            "[39]\tvalidation_0-auc:0.941968\n",
            "[40]\tvalidation_0-auc:0.941641\n",
            "[41]\tvalidation_0-auc:0.942622\n",
            "[42]\tvalidation_0-auc:0.94258\n",
            "[43]\tvalidation_0-auc:0.942749\n",
            "[44]\tvalidation_0-auc:0.942817\n",
            "[45]\tvalidation_0-auc:0.942571\n",
            "[46]\tvalidation_0-auc:0.942571\n",
            "[47]\tvalidation_0-auc:0.942813\n",
            "[48]\tvalidation_0-auc:0.943076\n",
            "[49]\tvalidation_0-auc:0.942894\n",
            "[50]\tvalidation_0-auc:0.942872\n",
            "[51]\tvalidation_0-auc:0.942987\n",
            "[52]\tvalidation_0-auc:0.942639\n",
            "[53]\tvalidation_0-auc:0.942792\n",
            "[54]\tvalidation_0-auc:0.942389\n",
            "[55]\tvalidation_0-auc:0.94238\n",
            "[56]\tvalidation_0-auc:0.942592\n",
            "[57]\tvalidation_0-auc:0.942754\n",
            "[58]\tvalidation_0-auc:0.94297\n",
            "[59]\tvalidation_0-auc:0.943051\n",
            "[60]\tvalidation_0-auc:0.943144\n",
            "[61]\tvalidation_0-auc:0.943021\n",
            "[62]\tvalidation_0-auc:0.942698\n",
            "[63]\tvalidation_0-auc:0.943012\n",
            "[64]\tvalidation_0-auc:0.943038\n",
            "[65]\tvalidation_0-auc:0.943271\n",
            "[66]\tvalidation_0-auc:0.943297\n",
            "[67]\tvalidation_0-auc:0.944681\n",
            "[68]\tvalidation_0-auc:0.944435\n",
            "[69]\tvalidation_0-auc:0.944388\n",
            "[70]\tvalidation_0-auc:0.943968\n",
            "[71]\tvalidation_0-auc:0.944078\n",
            "[72]\tvalidation_0-auc:0.944053\n",
            "[73]\tvalidation_0-auc:0.944405\n",
            "[74]\tvalidation_0-auc:0.944664\n",
            "[75]\tvalidation_0-auc:0.94494\n",
            "[76]\tvalidation_0-auc:0.944685\n",
            "[77]\tvalidation_0-auc:0.944787\n",
            "[78]\tvalidation_0-auc:0.94533\n",
            "[79]\tvalidation_0-auc:0.945504\n",
            "[80]\tvalidation_0-auc:0.945326\n",
            "[81]\tvalidation_0-auc:0.945059\n",
            "[82]\tvalidation_0-auc:0.944812\n",
            "[83]\tvalidation_0-auc:0.944918\n",
            "[84]\tvalidation_0-auc:0.945449\n",
            "[85]\tvalidation_0-auc:0.945296\n",
            "[86]\tvalidation_0-auc:0.945059\n",
            "[87]\tvalidation_0-auc:0.945717\n",
            "[88]\tvalidation_0-auc:0.945649\n",
            "[89]\tvalidation_0-auc:0.945687\n",
            "[90]\tvalidation_0-auc:0.945746\n",
            "[91]\tvalidation_0-auc:0.94581\n",
            "[92]\tvalidation_0-auc:0.946014\n",
            "[93]\tvalidation_0-auc:0.946056\n",
            "[94]\tvalidation_0-auc:0.94612\n",
            "[95]\tvalidation_0-auc:0.946065\n",
            "[96]\tvalidation_0-auc:0.946404\n",
            "[97]\tvalidation_0-auc:0.946188\n",
            "[98]\tvalidation_0-auc:0.946345\n",
            "[99]\tvalidation_0-auc:0.946179\n"
          ]
        },
        {
          "output_type": "execute_result",
          "data": {
            "text/plain": [
              "XGBClassifier(base_score=0.5, booster='gbtree', colsample_bylevel=1,\n",
              "              colsample_bynode=1, colsample_bytree=0.5, gamma=0,\n",
              "              learning_rate=0.2, max_delta_step=0, max_depth=5,\n",
              "              min_child_weight=1, missing=None, n_estimators=100, n_jobs=1,\n",
              "              nthread=None, objective='binary:logistic', random_state=0,\n",
              "              reg_alpha=0, reg_lambda=1, reg_lamda=0, scale_pos_weight=1,\n",
              "              seed=0, silent=None, subsample=0.9, verbosity=1)"
            ]
          },
          "metadata": {},
          "execution_count": 79
        }
      ]
    },
    {
      "cell_type": "code",
      "metadata": {
        "colab": {
          "base_uri": "https://localhost:8080/",
          "height": 447
        },
        "id": "bS1Q4-XBQ3Wp",
        "outputId": "3cd27cb6-964e-4db8-fbde-c392ba746749"
      },
      "source": [
        "print(classification_report(y_test, y_pred))\n",
        "plot_confusion_matrix(xgb_cl, X_test, y_test, values_format='d',\n",
        "                      display_labels=['not placed', 'placed'])"
      ],
      "execution_count": 80,
      "outputs": [
        {
          "output_type": "stream",
          "name": "stdout",
          "text": [
            "              precision    recall  f1-score   support\n",
            "\n",
            "           0       0.82      0.91      0.86       426\n",
            "           1       0.93      0.84      0.88       553\n",
            "\n",
            "    accuracy                           0.87       979\n",
            "   macro avg       0.87      0.88      0.87       979\n",
            "weighted avg       0.88      0.87      0.87       979\n",
            "\n"
          ]
        },
        {
          "output_type": "execute_result",
          "data": {
            "text/plain": [
              "<sklearn.metrics._plot.confusion_matrix.ConfusionMatrixDisplay at 0x7f8e196675d0>"
            ]
          },
          "metadata": {},
          "execution_count": 80
        },
        {
          "output_type": "display_data",
          "data": {
            "image/png": "[encoded data removed]",
            "text/plain": [
              "<Figure size 432x288 with 2 Axes>"
            ]
          },
          "metadata": {
            "needs_background": "light"
          }
        }
      ]
    }
  ]
}